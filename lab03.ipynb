{
  "nbformat": 4,
  "nbformat_minor": 0,
  "metadata": {
    "colab": {
      "provenance": []
    },
    "kernelspec": {
      "name": "python3",
      "display_name": "Python 3"
    },
    "language_info": {
      "name": "python"
    }
  },
  "cells": [
    {
      "cell_type": "code",
      "execution_count": null,
      "metadata": {
        "id": "g0FQsX-9Ss7a",
        "colab": {
          "base_uri": "https://localhost:8080/"
        },
        "outputId": "0cbf44a1-459f-4d30-b488-2230ad076a25"
      },
      "outputs": [
        {
          "output_type": "stream",
          "name": "stdout",
          "text": [
            "40\n",
            "45\n",
            "50\n",
            "55\n",
            "60\n",
            "65\n",
            "70\n",
            "75\n",
            "80\n",
            "85\n",
            "100\n"
          ]
        }
      ],
      "source": [
        "test = 1\n",
        "j = 0\n",
        "k = 100\n",
        "\n",
        "while (k > 0):\n",
        "  while ( j < k ):\n",
        "    test = k + j -21\n",
        "    print(str(1 + int (test / 2)))\n",
        "    j += 10\n",
        "  k -= 10\n",
        "test = 1\n",
        "j = 0\n",
        "k = 100\n",
        "print(k)\n"
      ]
    },
    {
      "cell_type": "markdown",
      "source": [
        "task01"
      ],
      "metadata": {
        "id": "wVdFwFArXmrP"
      }
    },
    {
      "cell_type": "code",
      "source": [
        "for i in range(24,-7,-6):\n",
        "  if(i==-6):\n",
        "    print(i)\n",
        "  else:\n",
        "     print(i,end=\",\")"
      ],
      "metadata": {
        "colab": {
          "base_uri": "https://localhost:8080/"
        },
        "id": "WRhZ_esYX8yd",
        "outputId": "320518d5-826e-4aec-ac81-7bb9940943a0"
      },
      "execution_count": null,
      "outputs": [
        {
          "output_type": "stream",
          "name": "stdout",
          "text": [
            "24,18,12,6,0,-6\n"
          ]
        }
      ]
    },
    {
      "cell_type": "code",
      "source": [
        "for i in range(-10,21,5):\n",
        "  if i==20:\n",
        "    print(i)\n",
        "  else:\n",
        "    print(i,end=\",\")"
      ],
      "metadata": {
        "colab": {
          "base_uri": "https://localhost:8080/"
        },
        "id": "JXLczcP-JmhU",
        "outputId": "7ad027a0-b733-4685-e2db-c9180724c150"
      },
      "execution_count": null,
      "outputs": [
        {
          "output_type": "stream",
          "name": "stdout",
          "text": [
            "-10,-5,0,5,10,15,20\n"
          ]
        }
      ]
    },
    {
      "cell_type": "code",
      "source": [
        "for i in range(18,64,9):\n",
        "  if i==63:\n",
        "    print(i)\n",
        "  else:\n",
        "    print(i,end=\",\")"
      ],
      "metadata": {
        "colab": {
          "base_uri": "https://localhost:8080/"
        },
        "id": "AjPw8wPIOTGx",
        "outputId": "2ef8d231-9c3f-4a1b-e003-f86a68b0d7d6"
      },
      "execution_count": null,
      "outputs": [
        {
          "output_type": "stream",
          "name": "stdout",
          "text": [
            "18,27,36,45,54,63\n"
          ]
        }
      ]
    },
    {
      "cell_type": "code",
      "source": [
        "count=18\n",
        "while count<=63:\n",
        "  if  count==63:\n",
        "    print(-count)\n",
        "  elif count%18==0:\n",
        "    print(count,end=\",\")\n",
        "  elif count%18!=0:\n",
        "    print(-count,end=\",\")\n",
        "  count+=9\n",
        "\n",
        "\n",
        "\n"
      ],
      "metadata": {
        "colab": {
          "base_uri": "https://localhost:8080/"
        },
        "id": "LRYN0s1FUkSt",
        "outputId": "ebcf52b9-6ed4-416c-801e-b3a895ad7800"
      },
      "execution_count": null,
      "outputs": [
        {
          "output_type": "stream",
          "name": "stdout",
          "text": [
            "18,-27,36,-45,54,-63\n"
          ]
        }
      ]
    },
    {
      "cell_type": "code",
      "source": [],
      "metadata": {
        "id": "o_JLUh_yUCHc"
      },
      "execution_count": null,
      "outputs": []
    },
    {
      "cell_type": "code",
      "source": [
        "car=input()\n",
        "number=int(input())\n",
        "for i in range(number):\n",
        "  print(car)"
      ],
      "metadata": {
        "colab": {
          "base_uri": "https://localhost:8080/"
        },
        "id": "stAwejKQgMAh",
        "outputId": "8f790803-b16c-466f-878c-3121648529cd"
      },
      "execution_count": null,
      "outputs": [
        {
          "output_type": "stream",
          "name": "stdout",
          "text": [
            "swwww\n",
            "2\n",
            "swwww\n",
            "swwww\n"
          ]
        }
      ]
    },
    {
      "cell_type": "code",
      "source": [
        "sum=0\n",
        "for i in range(601):\n",
        "  if i%7==0 and i%9==0:\n",
        "    sum+=i\n",
        "print(sum)"
      ],
      "metadata": {
        "colab": {
          "base_uri": "https://localhost:8080/"
        },
        "id": "leV4dXkCg6eN",
        "outputId": "6e338f01-fb4e-4640-f838-22b94245baf2"
      },
      "execution_count": null,
      "outputs": [
        {
          "output_type": "stream",
          "name": "stdout",
          "text": [
            "2835\n"
          ]
        }
      ]
    },
    {
      "cell_type": "code",
      "source": [
        "num=int(input(\"sggv\"))\n",
        "while True:\n",
        "  if num<10:\n",
        "    print(num)\n",
        "    break\n",
        "\n",
        "  else:\n",
        "    a=num%10\n",
        "    print(a,end=\",\")\n",
        "    num=num//10"
      ],
      "metadata": {
        "colab": {
          "base_uri": "https://localhost:8080/"
        },
        "id": "qWRF53LkUC0n",
        "outputId": "cac11d27-3e7e-402b-ad8f-74fac9748356"
      },
      "execution_count": null,
      "outputs": [
        {
          "output_type": "stream",
          "name": "stdout",
          "text": [
            "sggv3456\n",
            "6,5,4,3\n"
          ]
        }
      ]
    },
    {
      "cell_type": "code",
      "source": [
        "#4\n",
        "sum=0\n",
        "for i in range(601):\n",
        "  if i%7==0 and i%9==0:\n",
        "    sum=sum\n",
        "  elif i%7==0 or i%9==0:\n",
        "    sum+=i\n",
        "print(sum)\n"
      ],
      "metadata": {
        "colab": {
          "base_uri": "https://localhost:8080/"
        },
        "id": "D8boR5sXsMqn",
        "outputId": "4579b18f-4fa9-443f-fd3e-0fe17dfcb0e2"
      },
      "execution_count": null,
      "outputs": [
        {
          "output_type": "stream",
          "name": "stdout",
          "text": [
            "39814\n"
          ]
        }
      ]
    },
    {
      "cell_type": "code",
      "source": [
        "for i in range(10,51):\n",
        "  if i%2!=0:\n",
        "    print(i, end=\" \")"
      ],
      "metadata": {
        "colab": {
          "base_uri": "https://localhost:8080/"
        },
        "id": "AiGZa2jOjqr7",
        "outputId": "50dd5083-1ab6-40be-825f-e94f8cea9345"
      },
      "execution_count": null,
      "outputs": [
        {
          "output_type": "stream",
          "name": "stdout",
          "text": [
            "11 13 15 17 19 21 23 25 27 29 31 33 35 37 39 41 43 45 47 49 "
          ]
        }
      ]
    },
    {
      "cell_type": "code",
      "source": [
        "#6\n",
        "n=int(input())\n",
        "y=0\n",
        "for i in range(1,n+1,1):\n",
        "  if i%2!=0:\n",
        "    y+= i**2\n",
        "  else:\n",
        "    y-=i**2\n",
        "print(y)"
      ],
      "metadata": {
        "colab": {
          "base_uri": "https://localhost:8080/"
        },
        "id": "s6mhz51KljFj",
        "outputId": "112a1ded-e86f-4c5a-cd17-34fce0238931"
      },
      "execution_count": null,
      "outputs": [
        {
          "output_type": "stream",
          "name": "stdout",
          "text": [
            "20\n",
            "-210\n"
          ]
        }
      ]
    },
    {
      "cell_type": "code",
      "source": [
        "n=int(input())\n",
        "y=0\n",
        "for i in range(1,n+1,1):\n",
        "  if i%2!=0:\n",
        "    y= y+i**2\n",
        "  else:\n",
        "    y=y-i**2\n",
        "print(y)"
      ],
      "metadata": {
        "colab": {
          "base_uri": "https://localhost:8080/"
        },
        "id": "t07s1eV602Cb",
        "outputId": "39f43551-1d6e-4629-846f-3419a7b650ea"
      },
      "execution_count": null,
      "outputs": [
        {
          "output_type": "stream",
          "name": "stdout",
          "text": [
            "10\n",
            "0\n"
          ]
        }
      ]
    },
    {
      "cell_type": "code",
      "source": [
        "#7\n",
        "sum=0\n",
        "count = 0\n",
        "for i in range(10):\n",
        "  a=int(input(\"enter a value: \"))\n",
        "  if a%2!=0:\n",
        "    count+=1\n",
        "    sum+=a\n",
        "print(sum)\n",
        "print(sum/count)"
      ],
      "metadata": {
        "colab": {
          "base_uri": "https://localhost:8080/"
        },
        "id": "aa-K_niYp4Th",
        "outputId": "5569cff9-8205-4a88-fe6e-b27076cf3b1e"
      },
      "execution_count": null,
      "outputs": [
        {
          "output_type": "stream",
          "name": "stdout",
          "text": [
            "enter a value: -20\n",
            "enter a value: 13\n",
            "enter a value: -5\n",
            "enter a value: 40\n",
            "enter a value: -17\n",
            "enter a value: 10\n",
            "enter a value: 20\n",
            "enter a value: -8\n",
            "enter a value: 99\n",
            "enter a value: -200\n",
            "90\n",
            "22.5\n"
          ]
        }
      ]
    },
    {
      "cell_type": "code",
      "source": [
        "sum=0\n",
        "\n",
        "for i in range(5):\n",
        "  a=int(input())\n",
        "  sum+=a\n",
        "  print(sum)"
      ],
      "metadata": {
        "colab": {
          "base_uri": "https://localhost:8080/"
        },
        "id": "bew-GL9_Db58",
        "outputId": "f54606d4-9d8a-412c-b4a3-e64f5ea7b6b4"
      },
      "execution_count": null,
      "outputs": [
        {
          "output_type": "stream",
          "name": "stdout",
          "text": [
            "1\n",
            "1\n",
            "2\n",
            "3\n",
            "3\n",
            "6\n",
            "4\n",
            "10\n",
            "5\n",
            "15\n"
          ]
        }
      ]
    },
    {
      "cell_type": "code",
      "source": [
        "#8\n",
        "sum=0\n",
        "n=int(input())\n",
        "for i in range(1,n+1):\n",
        "  if i%7==0:\n",
        "    sum+=i\n",
        "print(sum)\n"
      ],
      "metadata": {
        "colab": {
          "base_uri": "https://localhost:8080/"
        },
        "id": "ODVInEN6-Nhv",
        "outputId": "7b8b64be-92d1-42c8-bad3-e6b63ac75496"
      },
      "execution_count": null,
      "outputs": [
        {
          "output_type": "stream",
          "name": "stdout",
          "text": [
            "75\n",
            "385\n"
          ]
        }
      ]
    },
    {
      "cell_type": "code",
      "source": [
        "#9\n",
        "sum=0\n",
        "for i in range(5):\n",
        "  num=int(input())\n",
        "  sum+=num\n",
        "  print(sum)\n"
      ],
      "metadata": {
        "colab": {
          "base_uri": "https://localhost:8080/"
        },
        "id": "4hY3Rb4EfEEp",
        "outputId": "161ec6df-5a6d-4b54-b043-2f9a83f01c68"
      },
      "execution_count": null,
      "outputs": [
        {
          "output_type": "stream",
          "name": "stdout",
          "text": [
            "11\n",
            "11\n",
            "-29\n",
            "-18\n",
            "-3\n",
            "-21\n",
            "47\n",
            "26\n",
            "50\n",
            "76\n"
          ]
        }
      ]
    },
    {
      "cell_type": "code",
      "source": [
        "#10"
      ],
      "metadata": {
        "id": "WYfq9cnSI-_F"
      },
      "execution_count": null,
      "outputs": []
    },
    {
      "cell_type": "code",
      "source": [
        "#11\n",
        "count=1\n",
        "num=int(input())\n",
        "while(num!=0):\n",
        "  num=num//10\n",
        "  count+=1\n",
        "print(count)"
      ],
      "metadata": {
        "colab": {
          "base_uri": "https://localhost:8080/"
        },
        "id": "jTOJMFZtjxkP",
        "outputId": "255774a9-7171-4221-d0e2-55e54ac1bd02"
      },
      "execution_count": null,
      "outputs": [
        {
          "output_type": "stream",
          "name": "stdout",
          "text": [
            "01234\n",
            "5\n"
          ]
        }
      ]
    },
    {
      "cell_type": "code",
      "source": [
        "#12\n",
        "count=0\n",
        "num=int(input())\n",
        "number=num\n",
        "while(num!=0):\n",
        "  num=num//10\n",
        "  count+=1\n",
        "\n",
        "p=10**(count-1)\n",
        "while number!=0:\n",
        "  count=number//p\n",
        "  #print(count,end=\",\")\n",
        "  number=number%p\n",
        "  p=p//10\n",
        "  if p==0:\n",
        "    print(number)\n",
        "  else:\n",
        "    print(number,end=\",\")\n"
      ],
      "metadata": {
        "colab": {
          "base_uri": "https://localhost:8080/"
        },
        "id": "Dg-b-gEboYIT",
        "outputId": "f6c73617-e0ee-4a70-9ff9-476600cbad35"
      },
      "execution_count": null,
      "outputs": [
        {
          "output_type": "stream",
          "name": "stdout",
          "text": [
            "344\n",
            "44,4,0\n"
          ]
        }
      ]
    },
    {
      "cell_type": "code",
      "source": [
        "num=int(input())\n",
        "count=0\n",
        "for i in range(1,num+1):\n",
        "  if num%i==0:\n",
        "    print(i)\n",
        "    count+=1\n",
        "\n",
        "print(\"total\",count,\"divisors\")\n"
      ],
      "metadata": {
        "colab": {
          "base_uri": "https://localhost:8080/"
        },
        "id": "l_n_ywxcWvlu",
        "outputId": "a1751838-9584-466d-d1f6-912b9f41fd7c"
      },
      "execution_count": null,
      "outputs": [
        {
          "output_type": "stream",
          "name": "stdout",
          "text": [
            "121\n",
            "1\n",
            "11\n",
            "121\n",
            "total 3 divisors\n"
          ]
        }
      ]
    },
    {
      "cell_type": "code",
      "source": [
        "digit=0\n",
        "n=int(input())\n",
        "while digit!=0:\n",
        "  n=n//10\n",
        "  digit+=1\n",
        "\n",
        "digit=0\n",
        "number=n\n",
        "power= 10**(digit-1)\n",
        "while digit!=0:\n",
        "  number=number//10\n",
        "  digit+=1\n",
        "  number=number%power\n",
        "  print(number)"
      ],
      "metadata": {
        "colab": {
          "base_uri": "https://localhost:8080/"
        },
        "id": "CewXA2dYUHri",
        "outputId": "2dec765d-d5ec-4522-beab-d128cafa534b"
      },
      "execution_count": null,
      "outputs": [
        {
          "name": "stdout",
          "output_type": "stream",
          "text": [
            "2345\n"
          ]
        }
      ]
    },
    {
      "cell_type": "code",
      "source": [
        "count=0\n",
        "num=int(input())\n",
        "while num!=0:\n",
        "  num=num%10\n",
        "  print(num)\n",
        "\n",
        "while num!=0:\n",
        "  num=num//10\n",
        "count=count+1"
      ],
      "metadata": {
        "id": "1J7OCsGMSNMU"
      },
      "execution_count": null,
      "outputs": []
    },
    {
      "cell_type": "code",
      "source": [
        "#16\n",
        "number=int(input(\"enter\"))\n",
        "max=-999\n",
        "min=999\n",
        "sum=0\n",
        "\n",
        "\n",
        "\n",
        "for i in range(0,number):\n",
        "  n=int(input(\"enter number\"))\n",
        "  sum+=n\n",
        "\n",
        "if n>max:\n",
        "    max=n\n",
        "if n<max:\n",
        "    min=n\n",
        "avg=sum/number\n",
        "print(max,\"is max\")\n",
        "print(min,\"is min\")\n",
        "print(avg,\"is avg\")"
      ],
      "metadata": {
        "colab": {
          "base_uri": "https://localhost:8080/"
        },
        "id": "UO2N9_ISud3z",
        "outputId": "bf093810-9dfc-406d-f487-edee5aa16c25"
      },
      "execution_count": null,
      "outputs": [
        {
          "output_type": "stream",
          "name": "stdout",
          "text": [
            "enter3\n",
            "enter number1\n",
            "enter number2\n",
            "enter number3\n",
            "3 is max\n",
            "999 is min\n",
            "2.0 is avg\n"
          ]
        }
      ]
    },
    {
      "cell_type": "code",
      "source": [
        "n=int(input())\n",
        "for row in range(1,n+1):\n",
        "\n",
        "  for col in range(1,row+1):\n",
        "    print(col,end=\"\")\n",
        "  print()"
      ],
      "metadata": {
        "colab": {
          "base_uri": "https://localhost:8080/"
        },
        "id": "btQgeNF40kCO",
        "outputId": "88f802e0-2d61-4436-dc9c-1d2f61ac40d0"
      },
      "execution_count": null,
      "outputs": [
        {
          "output_type": "stream",
          "name": "stdout",
          "text": [
            "5\n",
            "1\n",
            "12\n",
            "123\n",
            "1234\n",
            "12345\n"
          ]
        }
      ]
    },
    {
      "cell_type": "code",
      "source": [
        "n=int(input())\n",
        "for row in range(n-row):\n",
        "  for col in range(1,row+1):\n",
        "    print(col,end=\"\")"
      ],
      "metadata": {
        "colab": {
          "base_uri": "https://localhost:8080/",
          "height": 235
        },
        "id": "zrYBbk0U28Ve",
        "outputId": "9899b4e4-9c97-4dac-824d-6073523f8a04"
      },
      "execution_count": null,
      "outputs": [
        {
          "name": "stdout",
          "output_type": "stream",
          "text": [
            "4\n"
          ]
        },
        {
          "output_type": "error",
          "ename": "NameError",
          "evalue": "ignored",
          "traceback": [
            "\u001b[0;31m---------------------------------------------------------------------------\u001b[0m",
            "\u001b[0;31mNameError\u001b[0m                                 Traceback (most recent call last)",
            "\u001b[0;32m<ipython-input-44-ffabe3359c46>\u001b[0m in \u001b[0;36m<module>\u001b[0;34m\u001b[0m\n\u001b[1;32m      1\u001b[0m \u001b[0mn\u001b[0m\u001b[0;34m=\u001b[0m\u001b[0mint\u001b[0m\u001b[0;34m(\u001b[0m\u001b[0minput\u001b[0m\u001b[0;34m(\u001b[0m\u001b[0;34m)\u001b[0m\u001b[0;34m)\u001b[0m\u001b[0;34m\u001b[0m\u001b[0;34m\u001b[0m\u001b[0m\n\u001b[0;32m----> 2\u001b[0;31m \u001b[0;32mfor\u001b[0m \u001b[0mrow\u001b[0m \u001b[0;32min\u001b[0m \u001b[0mrange\u001b[0m\u001b[0;34m(\u001b[0m\u001b[0mn\u001b[0m\u001b[0;34m-\u001b[0m\u001b[0mrow\u001b[0m\u001b[0;34m)\u001b[0m\u001b[0;34m:\u001b[0m\u001b[0;34m\u001b[0m\u001b[0;34m\u001b[0m\u001b[0m\n\u001b[0m\u001b[1;32m      3\u001b[0m   \u001b[0;32mfor\u001b[0m \u001b[0mcol\u001b[0m \u001b[0;32min\u001b[0m \u001b[0mrange\u001b[0m\u001b[0;34m(\u001b[0m\u001b[0;36m1\u001b[0m\u001b[0;34m,\u001b[0m\u001b[0mrow\u001b[0m\u001b[0;34m+\u001b[0m\u001b[0;36m1\u001b[0m\u001b[0;34m)\u001b[0m\u001b[0;34m:\u001b[0m\u001b[0;34m\u001b[0m\u001b[0;34m\u001b[0m\u001b[0m\n\u001b[1;32m      4\u001b[0m     \u001b[0mprint\u001b[0m\u001b[0;34m(\u001b[0m\u001b[0mcol\u001b[0m\u001b[0;34m,\u001b[0m\u001b[0mend\u001b[0m\u001b[0;34m=\u001b[0m\u001b[0;34m\"\"\u001b[0m\u001b[0;34m)\u001b[0m\u001b[0;34m\u001b[0m\u001b[0;34m\u001b[0m\u001b[0m\n",
            "\u001b[0;31mNameError\u001b[0m: name 'row' is not defined"
          ]
        }
      ]
    },
    {
      "cell_type": "code",
      "source": [],
      "metadata": {
        "id": "m5w7JVtOzAuh"
      },
      "execution_count": null,
      "outputs": []
    },
    {
      "cell_type": "code",
      "source": [
        "n=int(input())\n",
        "count=0\n",
        "for i in range(1,n+1):\n",
        "  if( n%i==0):\n",
        "    count+=1\n",
        "if count==2:\n",
        "  print(n, \"prime number\")\n",
        "else:\n",
        "   print(n,\"not a prime number\")"
      ],
      "metadata": {
        "colab": {
          "base_uri": "https://localhost:8080/"
        },
        "id": "Fu2HVwS94Ijm",
        "outputId": "79ebcdbd-c7f3-40eb-b44c-cfcc64195956"
      },
      "execution_count": null,
      "outputs": [
        {
          "output_type": "stream",
          "name": "stdout",
          "text": [
            "11\n",
            "11 prime number\n"
          ]
        }
      ]
    },
    {
      "cell_type": "code",
      "source": [],
      "metadata": {
        "id": "xvRmwdLWyusC"
      },
      "execution_count": null,
      "outputs": []
    },
    {
      "cell_type": "code",
      "source": [
        "n=int(input())\n",
        "count=0\n",
        "div=-1\n",
        "while ( dive)"
      ],
      "metadata": {
        "id": "6NOg0oyDy_Vb"
      },
      "execution_count": null,
      "outputs": []
    },
    {
      "cell_type": "code",
      "source": [
        "n=int(input())\n",
        "for row in range(1,n+1):\n",
        "  for col in range(1,row+1):\n",
        "    print(col,end=\"\")\n",
        "  print()"
      ],
      "metadata": {
        "colab": {
          "base_uri": "https://localhost:8080/"
        },
        "id": "dC1G9o2R1tBQ",
        "outputId": "80adc64c-9dd2-42a3-9ec1-9f9e43e961ac"
      },
      "execution_count": null,
      "outputs": [
        {
          "output_type": "stream",
          "name": "stdout",
          "text": [
            "4\n",
            "1\n",
            "12\n",
            "123\n",
            "1234\n"
          ]
        }
      ]
    },
    {
      "cell_type": "code",
      "source": [
        "#8\n",
        "num=int(input())\n",
        "sum=0\n",
        "for a in range(1,num+1):\n",
        "  if a%7==0:\n",
        "    sum+=a\n",
        "print(sum)"
      ],
      "metadata": {
        "id": "5NDmlPRb9Vhd",
        "colab": {
          "base_uri": "https://localhost:8080/"
        },
        "outputId": "c8baf28c-9a36-4ab5-eee0-99a61b4745c0"
      },
      "execution_count": null,
      "outputs": [
        {
          "output_type": "stream",
          "name": "stdout",
          "text": [
            "50\n",
            "196\n"
          ]
        }
      ]
    },
    {
      "cell_type": "code",
      "source": [
        "\n"
      ],
      "metadata": {
        "id": "aqaJiaZrdbLa"
      },
      "execution_count": null,
      "outputs": []
    }
  ]
}