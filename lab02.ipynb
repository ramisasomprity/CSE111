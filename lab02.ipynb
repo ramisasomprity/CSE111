{
  "nbformat": 4,
  "nbformat_minor": 0,
  "metadata": {
    "colab": {
      "provenance": []
    },
    "kernelspec": {
      "name": "python3",
      "display_name": "Python 3"
    },
    "language_info": {
      "name": "python"
    }
  },
  "cells": [
    {
      "cell_type": "code",
      "execution_count": null,
      "metadata": {
        "id": "2dffd4SePkx7"
      },
      "outputs": [],
      "source": []
    },
    {
      "cell_type": "markdown",
      "source": [
        "Write the Python code of a program that reads two numbers from the user, and prints their sum, product, and difference.\n",
        "Hint: subtract the second number from the first one\n"
      ],
      "metadata": {
        "id": "RgmZxN60Tyn-"
      }
    },
    {
      "cell_type": "code",
      "source": [
        "num1=int(input(\"enter a number: \"))\n",
        "num2=int(input(\"enter a number: \"))\n",
        "sum= (num1+num2)\n",
        "product=(num1*num2)\n",
        "difference=(num1-num2)\n",
        "print(sum)\n",
        "print(product)\n",
        "print(difference)"
      ],
      "metadata": {
        "colab": {
          "base_uri": "https://localhost:8080/"
        },
        "id": "InitfMvET1gu",
        "outputId": "3637d7df-d4a2-4947-970b-2adca832f625"
      },
      "execution_count": null,
      "outputs": [
        {
          "output_type": "stream",
          "name": "stdout",
          "text": [
            "enter a number: 4\n",
            "enter a number: 5\n",
            "9\n",
            "20\n",
            "-1\n"
          ]
        }
      ]
    },
    {
      "cell_type": "code",
      "source": [
        "import math\n",
        "r=int(input(\"enter number\"))\n",
        "area=math.pi*math.pow(r,2)\n",
        "circumference=2*math.pi*r\n",
        "print(area)\n",
        "print(circumference)"
      ],
      "metadata": {
        "colab": {
          "base_uri": "https://localhost:8080/"
        },
        "id": "TdRFSgD1Wiea",
        "outputId": "29be153e-0ebb-4f02-f71e-690448f5fd99"
      },
      "execution_count": null,
      "outputs": [
        {
          "output_type": "stream",
          "name": "stdout",
          "text": [
            "enter number4\n",
            "50.26548245743669\n",
            "25.132741228718345\n"
          ]
        }
      ]
    },
    {
      "cell_type": "code",
      "source": [
        "\n",
        "num1=int(input())\n",
        "num2=int(input())\n",
        "if num1>num2:\n",
        "  print(\"first is greater\")\n",
        "elif num2>num1:\n",
        "   print(\"second is greater\")\n",
        "else:\n",
        "  print(\"the numbers are equal\")\n",
        ""
      ],
      "metadata": {
        "colab": {
          "base_uri": "https://localhost:8080/"
        },
        "id": "XqMjjH6HaR4l",
        "outputId": "9484a7ac-8faa-4c25-b030-1c21e7ed677b"
      },
      "execution_count": null,
      "outputs": [
        {
          "output_type": "stream",
          "name": "stdout",
          "text": [
            "-33\n",
            "-3\n",
            "second is greater\n"
          ]
        }
      ]
    },
    {
      "cell_type": "code",
      "source": [
        "num1= int(input(\"enter here: \"))\n",
        "if (num1%2==0) or (num1%5==0):\n",
        "   print(num1)\n",
        "else:\n",
        "    print(\"not a multiple of 2 or 5\")"
      ],
      "metadata": {
        "colab": {
          "base_uri": "https://localhost:8080/"
        },
        "id": "qk7XFUsId0rC",
        "outputId": "0e0940cd-eb6b-495a-8109-10fd35d862df"
      },
      "execution_count": null,
      "outputs": [
        {
          "output_type": "stream",
          "name": "stdout",
          "text": [
            "enter here: 7\n",
            "not a multiple of 2 or 5\n"
          ]
        }
      ]
    },
    {
      "cell_type": "code",
      "source": [
        "num1=int(input())\n",
        "if(num1%2==0) or(num1%5==0):\n",
        "  print(num1)\n",
        "elif(num1%2==0)and (num1%5==0):\n",
        "  print(\"both\")\n",
        "else:\n",
        "  print(\"not what we want\")\n",
        ""
      ],
      "metadata": {
        "colab": {
          "base_uri": "https://localhost:8080/"
        },
        "id": "BxXKiNnHqGMS",
        "outputId": "73fdb90a-8d10-46f2-8233-fd13432661dd"
      },
      "execution_count": null,
      "outputs": [
        {
          "output_type": "stream",
          "name": "stdout",
          "text": [
            "10\n",
            "10\n"
          ]
        }
      ]
    },
    {
      "cell_type": "code",
      "source": [
        "num1=int(input(\"fhggfr\"))\n",
        "if (num1%2==0)and (num1%5==0):\n",
        "  print(\"both\")\n",
        "elif (num1%2==0) or(num1%5==0):\n",
        "  print(num1)\n",
        "else:\n",
        "  print(\"not the multiple we want\")"
      ],
      "metadata": {
        "colab": {
          "base_uri": "https://localhost:8080/"
        },
        "id": "bQmf-4nFf2rG",
        "outputId": "29317f93-3ba0-42cf-ab1e-0db6c20de4ad"
      },
      "execution_count": null,
      "outputs": [
        {
          "output_type": "stream",
          "name": "stdout",
          "text": [
            "fhggfr17\n",
            "not the multiple we want\n"
          ]
        }
      ]
    },
    {
      "cell_type": "code",
      "source": [
        "num1=int(input(\"cdiuhiuh\"))\n",
        "if (num1%2==0) and (num1%5==0):\n",
        "  print(num1)\n",
        "else:\n",
        "  print(\"not a multiple of 2and 5\")"
      ],
      "metadata": {
        "colab": {
          "base_uri": "https://localhost:8080/"
        },
        "id": "FX0uvdcji3W_",
        "outputId": "00e75d84-5dd4-4ae6-ec05-1971bb9a040c"
      },
      "execution_count": null,
      "outputs": [
        {
          "output_type": "stream",
          "name": "stdout",
          "text": [
            "cdiuhiuh10\n",
            "10\n"
          ]
        }
      ]
    },
    {
      "cell_type": "code",
      "source": [
        "sec=int(input())\n",
        "hour=sec//3600\n",
        "rem=sec%3600\n",
        "min=rem//60\n",
        "second=rem%60\n",
        "print(hour)\n",
        "print(min)\n",
        "print(second)"
      ],
      "metadata": {
        "colab": {
          "base_uri": "https://localhost:8080/"
        },
        "id": "xZCwHseVknV_",
        "outputId": "09e639d1-d755-4a2d-e61e-badce8f043a3"
      },
      "execution_count": null,
      "outputs": [
        {
          "output_type": "stream",
          "name": "stdout",
          "text": [
            "500\n",
            "0\n",
            "8\n",
            "20\n"
          ]
        }
      ]
    },
    {
      "cell_type": "markdown",
      "source": [
        "Write a Python program to compute and display a person’s weekly salary as determined by the\n",
        "following conditions:\n",
        "● If the hours worked is less than or equal to 40, then the person receives Tk 200 per hour.\n",
        "● If the hours worked is greater than 40, then the person receives Tk 8000 plus Tk 300 for\n",
        "each hour worked over 40 hours.\n",
        "The program should request the hours worked as an input from the user and display the salary"
      ],
      "metadata": {
        "id": "h7d_5Trs5mOR"
      }
    },
    {
      "cell_type": "code",
      "source": [
        "num1=int(input(\"enter the number of hours\"))\n",
        "if num1>=0 and num1<=40:\n",
        "   print(200*num1)\n",
        "elif num1>40 and num1<=168:\n",
        "  print(8000+300*(num1-40))\n",
        "elif num1>168:\n",
        "  print(\"Impossible to work more than 168 hours weekly\")\n",
        "elif num1<0:\n",
        "  print(\"Hour cannot be negative\")"
      ],
      "metadata": {
        "colab": {
          "base_uri": "https://localhost:8080/"
        },
        "id": "WTwAeXR75Gc8",
        "outputId": "a767c6ef-b877-4dff-e7de-015fc30a7102"
      },
      "execution_count": null,
      "outputs": [
        {
          "output_type": "stream",
          "name": "stdout",
          "text": [
            "enter the number of hours40\n",
            "8000\n"
          ]
        }
      ]
    },
    {
      "cell_type": "code",
      "source": [
        "hour=int(input(\"iuheiuheiuyge\"))\n",
        "if hour>=23 and hour<=0:\n",
        "  print(\"wrong time\")\n",
        "else:\n",
        "   if hour>=0 and hour<=23:\n",
        "     elif hour>=12 and hour<=13\n",
        "       print(\"lunch\")\n",
        "     elif hour>=16 and hour<=17\n",
        "       print(\"snack\")\n",
        "     elif hour>=19 and hour<=20\n",
        "       print(\"dinner\")\n",
        "     else:\n",
        "       print(\"Patience is a virtue\")\n",
        "\n",
        "\n",
        "\n",
        "\n"
      ],
      "metadata": {
        "id": "TT7z6LUvpRIQ",
        "colab": {
          "base_uri": "https://localhost:8080/",
          "height": 130
        },
        "outputId": "1b0b8a5f-ea5b-4b21-beb2-7a1f47a09953"
      },
      "execution_count": null,
      "outputs": [
        {
          "output_type": "error",
          "ename": "SyntaxError",
          "evalue": "ignored",
          "traceback": [
            "\u001b[0;36m  File \u001b[0;32m\"<ipython-input-12-fac5ae882c20>\"\u001b[0;36m, line \u001b[0;32m6\u001b[0m\n\u001b[0;31m    elif hour>=12 and hour<=13\u001b[0m\n\u001b[0m       ^\u001b[0m\n\u001b[0;31mSyntaxError\u001b[0m\u001b[0;31m:\u001b[0m invalid syntax\n"
          ]
        }
      ]
    },
    {
      "cell_type": "code",
      "source": [
        "hour= int(input(\"enter the time: \"))\n",
        "if hour>=0 and hour<=23:\n",
        "  if hour>=4 and hour<=6:\n",
        "    print(\"Breakfast\")\n",
        "  elif hour>=12 and hour<=13:\n",
        "    print(\"Lunch\")\n",
        "  elif hour>=16 and hour<=17:\n",
        "    print(\"Snacks\")\n",
        "  elif hour>=19 and hour<=20:\n",
        "    print(\"Dinner\")\n",
        "  else:\n",
        "    print(\"Patience is a virtue\")\n",
        "else:\n",
        "  print(\"Wrong time\")\n"
      ],
      "metadata": {
        "colab": {
          "base_uri": "https://localhost:8080/"
        },
        "id": "193HLzM_OVJ4",
        "outputId": "3a7b88d1-6d92-4821-e680-d7f25302809f"
      },
      "execution_count": null,
      "outputs": [
        {
          "output_type": "stream",
          "name": "stdout",
          "text": [
            "enter the time: 27\n",
            "Wrong time\n"
          ]
        }
      ]
    },
    {
      "cell_type": "code",
      "source": [
        "mark=int(input(\"ënter the marks here: \"))\n",
        "if mark>=0 and mark<=100:\n",
        "\n",
        "  if mark>=90 and mark<=100:\n",
        "    print(\"A\")\n",
        "  elif mark>=80 and mark<=89:\n",
        "    print(\"B\")\n",
        "  elif mark>=70 and mark<=79:\n",
        "    print(\"C\")\n",
        "  elif mark>=60 and mark<=69:\n",
        "    print(\"D\")\n",
        "  elif mark>=50 and mark<=59:\n",
        "    print(\"E\")\n",
        "  else:\n",
        "    print(\"F\")\n",
        "else:\n",
        "  print(\"Invalid\")"
      ],
      "metadata": {
        "colab": {
          "base_uri": "https://localhost:8080/"
        },
        "id": "-6-sXqcusx4v",
        "outputId": "0256997b-67f4-4a25-cf80-41f9cc2c8578"
      },
      "execution_count": null,
      "outputs": [
        {
          "output_type": "stream",
          "name": "stdout",
          "text": [
            "ënter the marks here: 110\n",
            "Invalid\n"
          ]
        }
      ]
    },
    {
      "cell_type": "code",
      "source": [
        "distance=int(input())/1000\n",
        "time=int(input())/3600\n",
        "\n",
        "velocity= (distance/time)\n",
        "if velocity<60:\n",
        "  print(velocity,\"km/h\")\n",
        "  print(\"Too slow. Needs more changes.\")\n",
        "elif velocity>=60 and velocity<=90:\n",
        "  print(velocity, \"km/h\")\n",
        "  print(\"Velocity is okay. The car is ready!\")\n",
        "elif velocity>90:\n",
        "  print(velocity,\"km/h\")\n",
        "  print(\"Too fast. Only a few changes should suffice.\")"
      ],
      "metadata": {
        "colab": {
          "base_uri": "https://localhost:8080/"
        },
        "id": "0UoB1oMnpEbJ",
        "outputId": "f2ee89ba-768e-443f-ed4d-7ac482dc9b4a"
      },
      "execution_count": null,
      "outputs": [
        {
          "output_type": "stream",
          "name": "stdout",
          "text": [
            "25400\n",
            "3600\n",
            "25.4 km/h\n",
            "Too slow. Needs more changes.\n"
          ]
        }
      ]
    },
    {
      "cell_type": "code",
      "source": [
        "theCGPA= float(input(\"enter your CGPA: \"))\n",
        "credits=int(input(\"enter the number of credits: \"))\n",
        "if theCGPA<3.80 or credits<=30:\n",
        "  print(\"The student is not eligible for a waiver\")\n",
        "if theCGPA>=3.80 and theCGPA<=4.00 and credits>30:\n",
        "\n",
        "  if theCGPA>=3.80 and theCGPA<=3.89:\n",
        "    print(\"25 percent\")\n",
        "  elif theCGPA>=3.90 and theCGPA<=3.94:\n",
        "    print(\"50 percent\")\n",
        "  elif theCGPA>=3.95 and theCGPA<=3.99:\n",
        "    print(\"75 percent\")\n",
        "  else:\n",
        "    print(\"100 percent\")"
      ],
      "metadata": {
        "colab": {
          "base_uri": "https://localhost:8080/"
        },
        "id": "ukK6dinQhUzI",
        "outputId": "e08e6b45-336a-4b2e-d085-c6a9dfce58ae"
      },
      "execution_count": null,
      "outputs": [
        {
          "output_type": "stream",
          "name": "stdout",
          "text": [
            "enter your CGPA: 4\n",
            "enter the number of credits: 56\n",
            "100 percent\n"
          ]
        }
      ]
    },
    {
      "cell_type": "code",
      "source": [
        "import math\n",
        "S=int(input(\"enter your value: \"))\n",
        "if S<100:\n",
        "  print(\"L\",\"=\",3000-125*math.pow(S,2))\n",
        "elif S>=100:\n",
        "  print(\"L\",\"=\",12000/(4+(math.pow(S,2)/14900)))"
      ],
      "metadata": {
        "colab": {
          "base_uri": "https://localhost:8080/"
        },
        "id": "bTlVOo1ZwF_p",
        "outputId": "5c5c1bc5-b337-408b-d954-dc45f65b79c6"
      },
      "execution_count": null,
      "outputs": [
        {
          "output_type": "stream",
          "name": "stdout",
          "text": [
            "enter your value: 3\n",
            "L = 1875.0\n"
          ]
        }
      ]
    },
    {
      "cell_type": "code",
      "source": [
        "num1=int(input(\"enter the number: \"))\n",
        "num2=int(input(\"enter the number: \"))\n",
        "if num1>num2:\n",
        "  print(num1-num2)\n",
        "\n",
        "else:\n",
        "  print(num2-num1)\n",
        "\n",
        "\n"
      ],
      "metadata": {
        "id": "LLUeVdYrhk2t",
        "colab": {
          "base_uri": "https://localhost:8080/"
        },
        "outputId": "0424015a-2635-4682-9c5b-774aadabf81d"
      },
      "execution_count": null,
      "outputs": [
        {
          "output_type": "stream",
          "name": "stdout",
          "text": [
            "enter the number: 5\n",
            "enter the number: 5\n",
            "0\n"
          ]
        }
      ]
    },
    {
      "cell_type": "code",
      "source": [
        "num1=int(input(\"enter the number: \"))\n",
        "if num1%2==0:\n",
        "  print(\"the number is even\")\n",
        "else:\n",
        "  print(\"the number is odd\")"
      ],
      "metadata": {
        "colab": {
          "base_uri": "https://localhost:8080/"
        },
        "id": "PjLNgncuhPwM",
        "outputId": "9d653cfa-8a9f-4a81-de9e-58b70b5c0308"
      },
      "execution_count": null,
      "outputs": [
        {
          "output_type": "stream",
          "name": "stdout",
          "text": [
            "enter the number: 100\n",
            "the number is even\n"
          ]
        }
      ]
    }
  ]
}