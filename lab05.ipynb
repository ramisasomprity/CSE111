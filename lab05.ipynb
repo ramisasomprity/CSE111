{
  "nbformat": 4,
  "nbformat_minor": 0,
  "metadata": {
    "colab": {
      "provenance": []
    },
    "kernelspec": {
      "name": "python3",
      "display_name": "Python 3"
    },
    "language_info": {
      "name": "python"
    }
  },
  "cells": [
    {
      "cell_type": "code",
      "execution_count": null,
      "metadata": {
        "colab": {
          "base_uri": "https://localhost:8080/"
        },
        "id": "MWgINKytjKvk",
        "outputId": "ec3e1015-7797-4f18-94e0-c6a85f6f0c46"
      },
      "outputs": [
        {
          "output_type": "stream",
          "name": "stdout",
          "text": [
            "3\n",
            "[3]\n",
            "3\n",
            "[3, 3]\n",
            "6\n",
            "[3, 3, 6]\n",
            "8\n",
            "[3, 3, 6, 8]\n",
            "9\n",
            "[3, 3, 6, 8, 9]\n"
          ]
        }
      ],
      "source": [
        "lst=[]\n",
        "for i in range(5):\n",
        "  inp=int(input())\n",
        "  lst.append(inp)\n",
        "  print(lst)\n"
      ]
    },
    {
      "cell_type": "code",
      "source": [
        "lst=[]\n",
        "for i in range(5):\n",
        "  inp=int(input())\n",
        "  lst.append(inp)\n",
        "for a in range(len(lst)-1,-1,-1):\n",
        "  print(lst[a])"
      ],
      "metadata": {
        "colab": {
          "base_uri": "https://localhost:8080/"
        },
        "id": "tuILr9Riso-9",
        "outputId": "7bf36e0e-e281-4bd7-d7ee-1e94858575f8"
      },
      "execution_count": null,
      "outputs": [
        {
          "output_type": "stream",
          "name": "stdout",
          "text": [
            "5\n",
            "7\n",
            "8\n",
            "9\n",
            "2\n",
            "2\n",
            "9\n",
            "8\n",
            "7\n",
            "5\n"
          ]
        }
      ]
    },
    {
      "cell_type": "code",
      "source": [
        "lst=[\"hey\", \"there\", \"\", \"what's\", \"\", \"up\", \"\", \"?\"]\n",
        "modified=[]\n",
        "for i in lst:\n",
        "  if i!=\"\":\n",
        "    modified.append(i)\n",
        "print(modified)"
      ],
      "metadata": {
        "colab": {
          "base_uri": "https://localhost:8080/"
        },
        "id": "muU1PZJTqrZ6",
        "outputId": "afb02686-090c-486b-bea9-225284f4371f"
      },
      "execution_count": null,
      "outputs": [
        {
          "output_type": "stream",
          "name": "stdout",
          "text": [
            "['hey', 'there', \"what's\", 'up', '?']\n"
          ]
        }
      ]
    },
    {
      "cell_type": "code",
      "source": [
        "inp=input()\n",
        "lst=[]\n",
        "digit=\"\"\n",
        "max=-10000\n",
        "maxindex=-1\n",
        "for i in range(len(inp)):\n",
        "  if inp[i]==\",\":\n",
        "    lst.append(int(digit))\n",
        "    digit=\"\"\n",
        "  else:\n",
        "    digit+=inp[i]\n",
        "lst.append(int(digit))\n",
        "for a in range(0,len(lst)):\n",
        "  if lst[a]>max:\n",
        "    max=lst[a]\n",
        "    maxindex=a\n",
        "\n",
        "print(lst)\n",
        "print(max)\n",
        "print(maxindex)"
      ],
      "metadata": {
        "colab": {
          "base_uri": "https://localhost:8080/"
        },
        "id": "kbjrgDl5sc3W",
        "outputId": "bf1753f3-5f35-4c04-c807-cb766d2dd7df"
      },
      "execution_count": null,
      "outputs": [
        {
          "output_type": "stream",
          "name": "stdout",
          "text": [
            "2,4,8,1,10\n",
            "[2, 4, 8, 1, 10]\n",
            "10\n",
            "4\n"
          ]
        }
      ]
    },
    {
      "cell_type": "code",
      "source": [
        "inp=input()\n",
        "og=[]\n",
        "modified=[]\n",
        "digit=\"\"\n",
        "for i in range (len(inp)):\n",
        "  if inp[i]==\",\":\n",
        "    og.append(int(digit))\n",
        "    digit=\"\"\n",
        "  else:\n",
        "    digit+="
      ],
      "metadata": {
        "id": "JXgVUgHR39i4"
      },
      "execution_count": null,
      "outputs": []
    },
    {
      "cell_type": "code",
      "source": [],
      "metadata": {
        "id": "M0zru-hD9TPF"
      },
      "execution_count": null,
      "outputs": []
    }
  ]
}