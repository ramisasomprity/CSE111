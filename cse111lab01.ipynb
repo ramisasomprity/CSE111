{
  "nbformat": 4,
  "nbformat_minor": 0,
  "metadata": {
    "colab": {
      "provenance": []
    },
    "kernelspec": {
      "name": "python3",
      "display_name": "Python 3"
    },
    "language_info": {
      "name": "python"
    }
  },
  "cells": [
    {
      "cell_type": "code",
      "execution_count": null,
      "metadata": {
        "id": "ZLq1TWb9q9wy",
        "colab": {
          "base_uri": "https://localhost:8080/"
        },
        "outputId": "f7092811-cc7b-4aa9-eb08-81c0a7a31ccf"
      },
      "outputs": [
        {
          "output_type": "stream",
          "name": "stdout",
          "text": [
            "2\n",
            "3\n",
            "apple\n"
          ]
        }
      ],
      "source": [
        "givenstr=\"ApplE\"\n",
        "upper=0\n",
        "lower=0\n",
        "lowernew=\"\"\n",
        "uppernew=\"\"\n",
        "for i in givenstr:\n",
        "  if ord(\"a\")<=ord(i)<=ord(\"z\"):\n",
        "    lower+=1\n",
        "  else:\n",
        "    upper+=1\n",
        "print(upper)\n",
        "print(lower)\n",
        "if upper>lower:\n",
        "  print(givenstr.upper())\n",
        "\n",
        "\n",
        "\n",
        "\n",
        "elif lower>=upper:\n",
        "  print(givenstr.lower())\n",
        ""
      ]
    },
    {
      "cell_type": "code",
      "source": [
        "string=eval(input())\n",
        "\n",
        "\n",
        "print(string)\n",
        "print(type(string))"
      ],
      "metadata": {
        "id": "4Yrq5pJ3vH4a"
      },
      "execution_count": null,
      "outputs": []
    },
    {
      "cell_type": "code",
      "source": [
        "givenstr=\"1234\"\n",
        "number=0\n",
        "\n",
        "\n",
        "\n",
        "for i in givenstr:\n",
        "  if ord(\"0\")<=ord(i)<=ord(\"9\"):\n",
        "    number+=1\n",
        "\n",
        "\n",
        "if number==0:\n",
        "  print(\"WORD\")\n",
        "elif len(givenstr)==number:\n",
        "  print(\"NUMBER\")\n",
        "elif len(givenstr)> number:\n",
        "  print(\"MIXED\")"
      ],
      "metadata": {
        "colab": {
          "base_uri": "https://localhost:8080/"
        },
        "id": "w8xd_g3R0RdE",
        "outputId": "754794b7-6255-46f5-eecb-692ccd0c8590"
      },
      "execution_count": null,
      "outputs": [
        {
          "output_type": "stream",
          "name": "stdout",
          "text": [
            "NUMBER\n"
          ]
        }
      ]
    },
    {
      "cell_type": "code",
      "source": [
        "230\n",
        "#1list1\n",
        "lst=[]\n",
        "giveninp=input()\n",
        "lst.append(int(giveninp))\n",
        "\n",
        "\n",
        "count=0\n",
        "lst2=[]\n",
        "while giveninp!=\"STOP\":\n",
        "  giveninp=input()\n",
        "  if giveninp==\"STOP\":\n",
        "     break\n",
        "  else:\n",
        "     lst.append(int(giveninp))\n",
        "\n",
        "for i in lst:\n",
        "\n",
        "  if i not in lst2:\n",
        "    lst2.append(i)\n",
        "for j in lst2:\n",
        "  for x in lst:\n",
        "    if j ==x:\n",
        "      count+=1\n",
        "\n",
        "  print(j, \"-\", count, \"times\")\n",
        "  count=0\n",
        "print(lst)\n",
        "print(lst2)\n",
        "\n",
        "\n",
        "\n",
        "\n",
        "\n"
      ],
      "metadata": {
        "id": "Gu8M6G3T9C68",
        "colab": {
          "base_uri": "https://localhost:8080/"
        },
        "outputId": "9ecdb0b1-f1ab-4175-aa56-82b012e4fb7b"
      },
      "execution_count": null,
      "outputs": [
        {
          "output_type": "stream",
          "name": "stdout",
          "text": [
            "10\n",
            "10\n",
            "20\n",
            "0\n",
            "30\n",
            "STOP\n",
            "10 - 2 times\n",
            "20 - 1 times\n",
            "0 - 1 times\n",
            "30 - 1 times\n",
            "[10, 10, 20, 0, 30]\n",
            "[10, 20, 0, 30]\n"
          ]
        }
      ]
    },
    {
      "cell_type": "code",
      "source": [
        "num=int(input())\n",
        "lst=[]\n",
        "sum=0\n",
        "max=0\n",
        "for i in range(num):\n",
        "  lstinp=input().split(\" \")\n",
        "  lst.append(lstinp)\n",
        "  for lists in lst:\n",
        "    sum=0\n",
        "    for values in lists:\n",
        "      sum+=int(values)\n",
        "    if sum>max:\n",
        "      max=sum\n",
        "      index = lists\n",
        "print(max)\n",
        "print(index)"
      ],
      "metadata": {
        "colab": {
          "base_uri": "https://localhost:8080/"
        },
        "id": "vVnIRwg_BrNe",
        "outputId": "253164f6-38d2-4156-8034-325e516cba20"
      },
      "execution_count": null,
      "outputs": [
        {
          "output_type": "stream",
          "name": "stdout",
          "text": [
            "4\n",
            "1 2 3\n",
            "4 5 6\n",
            "10 11 12\n",
            "7 8 9\n",
            "33\n",
            "['10', '11', '12']\n"
          ]
        }
      ]
    },
    {
      "cell_type": "code",
      "source": [
        "lst=[]\n",
        "for i in range(0,5):\n",
        "  user=input()\n",
        "lst.append(user)\n",
        "print(lst)"
      ],
      "metadata": {
        "colab": {
          "base_uri": "https://localhost:8080/"
        },
        "id": "GN-SvXb4ZnIN",
        "outputId": "8f6563aa-9d9b-418f-af30-86478cf15380"
      },
      "execution_count": null,
      "outputs": [
        {
          "output_type": "stream",
          "name": "stdout",
          "text": [
            "1\n",
            "\n",
            "3\n",
            "4\n",
            "5\n",
            "['5']\n"
          ]
        }
      ]
    },
    {
      "cell_type": "code",
      "source": [
        "givenlst1=[2,3,6]\n",
        "givenlst2=[3,4,5]\n",
        "new=[]\n",
        "\n",
        "for i in givenlst1:\n",
        "  for j in givenlst2:\n",
        "    x=i*j\n",
        "    new.append(x)\n",
        "\n",
        "\n",
        "print(new)"
      ],
      "metadata": {
        "id": "LDTtuUVeZ-GL",
        "colab": {
          "base_uri": "https://localhost:8080/"
        },
        "outputId": "b3c64f84-f7b9-4026-b4b9-696daca93eca"
      },
      "execution_count": null,
      "outputs": [
        {
          "output_type": "stream",
          "name": "stdout",
          "text": [
            "[6, 8, 10, 9, 12, 15, 18, 24, 30]\n"
          ]
        }
      ]
    },
    {
      "cell_type": "code",
      "source": [
        "lst1=[]         #x-=( lst[i]-lst[i+1])\n",
        "lst2=[]\n",
        "lst3=[]\n",
        "count=0\n",
        "numinp=input()\n",
        "while numinp!=\"STOP\":\n",
        "  lst1.append(int(numinp))\n",
        "  numinp=input()\n",
        "print(lst1)\n",
        "for i in range(len(lst1)):\n",
        "  if i != (len(lst1)-1):\n",
        "    x = (lst1[i+1] - lst1[i])\n",
        "    lst2.append(x)\n",
        "\n",
        "for j in lst2:\n",
        "  if i<0:\n",
        "    x=j*-1\n",
        "    lst3.append(x)\n",
        "  else:\n",
        "    lst3.append(i)\n",
        "for a in lst3:\n",
        "  if 1<=a<=len(lst1):\n",
        "    count+=1\n",
        "if count==len(lst3):\n",
        "  print(\"ub jumper\")\n",
        "else:\n",
        "  print(\"no\")"
      ],
      "metadata": {
        "colab": {
          "base_uri": "https://localhost:8080/"
        },
        "id": "IkX5Tk9v1cU4",
        "outputId": "ef735b1d-1df6-4f64-95f1-7194b68a831d"
      },
      "execution_count": null,
      "outputs": [
        {
          "output_type": "stream",
          "name": "stdout",
          "text": [
            "1\n",
            "4\n",
            "2\n",
            "3\n",
            "STOP\n",
            "[1, 4, 2, 3]\n",
            "ub jumper\n"
          ]
        }
      ]
    },
    {
      "cell_type": "code",
      "source": [
        "lst=[]\n",
        "numinp=input()\n",
        "lst.append(int(numinp))\n",
        "x=0\n",
        "\n",
        "\n",
        "while numinp!=\"STOP\":\n",
        "\n",
        "  numinp=input()\n",
        "  lst.append(int(numinp))\n",
        "\n",
        "for i in range(0,len(lst)):\n",
        "  x=lst[i]-lst[i+1]\n",
        "  if x<0:\n",
        "    x=-1*x\n",
        "  else:\n",
        "    x=x\n",
        "if 1<=x<=(len(numinp)-1):\n",
        "  print(\"UB JUMPER\")\n",
        "else:\n",
        "  print(\"NOT A UB JUMPER\")\n",
        "\n"
      ],
      "metadata": {
        "colab": {
          "base_uri": "https://localhost:8080/",
          "height": 321
        },
        "id": "WGT78brp8FwR",
        "outputId": "10ecddf4-2473-45d6-c5d6-4eb49d6ccba7"
      },
      "execution_count": null,
      "outputs": [
        {
          "name": "stdout",
          "output_type": "stream",
          "text": [
            "1\n",
            "4\n",
            "2\n",
            "3\n",
            "STOP\n"
          ]
        },
        {
          "output_type": "error",
          "ename": "ValueError",
          "evalue": "ignored",
          "traceback": [
            "\u001b[0;31m---------------------------------------------------------------------------\u001b[0m",
            "\u001b[0;31mValueError\u001b[0m                                Traceback (most recent call last)",
            "\u001b[0;32m<ipython-input-21-379ca1a7931f>\u001b[0m in \u001b[0;36m<module>\u001b[0;34m\u001b[0m\n\u001b[1;32m      8\u001b[0m \u001b[0;34m\u001b[0m\u001b[0m\n\u001b[1;32m      9\u001b[0m   \u001b[0mnuminp\u001b[0m\u001b[0;34m=\u001b[0m\u001b[0minput\u001b[0m\u001b[0;34m(\u001b[0m\u001b[0;34m)\u001b[0m\u001b[0;34m\u001b[0m\u001b[0;34m\u001b[0m\u001b[0m\n\u001b[0;32m---> 10\u001b[0;31m   \u001b[0mlst\u001b[0m\u001b[0;34m.\u001b[0m\u001b[0mappend\u001b[0m\u001b[0;34m(\u001b[0m\u001b[0mint\u001b[0m\u001b[0;34m(\u001b[0m\u001b[0mnuminp\u001b[0m\u001b[0;34m)\u001b[0m\u001b[0;34m)\u001b[0m\u001b[0;34m\u001b[0m\u001b[0;34m\u001b[0m\u001b[0m\n\u001b[0m\u001b[1;32m     11\u001b[0m \u001b[0;34m\u001b[0m\u001b[0m\n\u001b[1;32m     12\u001b[0m \u001b[0;32mfor\u001b[0m \u001b[0mi\u001b[0m \u001b[0;32min\u001b[0m \u001b[0mrange\u001b[0m\u001b[0;34m(\u001b[0m\u001b[0;36m0\u001b[0m\u001b[0;34m,\u001b[0m\u001b[0mlen\u001b[0m\u001b[0;34m(\u001b[0m\u001b[0mlst\u001b[0m\u001b[0;34m)\u001b[0m\u001b[0;34m)\u001b[0m\u001b[0;34m:\u001b[0m\u001b[0;34m\u001b[0m\u001b[0;34m\u001b[0m\u001b[0m\n",
            "\u001b[0;31mValueError\u001b[0m: invalid literal for int() with base 10: 'STOP'"
          ]
        }
      ]
    },
    {
      "cell_type": "code",
      "source": [
        "givenstr=\"baNgladEsh\"\n",
        "count=0\n",
        "new=\"\"\n",
        "for i in range(len(givenstr)) :\n",
        "  if \"A\"<=givenstr[i]<=\"Z\" and count==0:\n",
        "    index=1+i\n",
        "    count+=1\n",
        "  elif  \"A\"<=givenstr[i]<=\"Z\" and count==1:\n",
        "   index2= i\n",
        "new= givenstr[index:index2]\n",
        "if new!=\"\":\n",
        "  print(new)\n",
        "else:\n",
        "  print(\"blank\")\n",
        "\n"
      ],
      "metadata": {
        "id": "zlvZMR6Ydd7S",
        "colab": {
          "base_uri": "https://localhost:8080/"
        },
        "outputId": "c4110a99-3635-4102-8789-de7ffa41cd1a"
      },
      "execution_count": null,
      "outputs": [
        {
          "output_type": "stream",
          "name": "stdout",
          "text": [
            "glad\n"
          ]
        }
      ]
    },
    {
      "cell_type": "code",
      "source": [],
      "metadata": {
        "id": "eD2EZQRthogG"
      },
      "execution_count": null,
      "outputs": []
    },
    {
      "cell_type": "code",
      "source": [
        "givenstr1=\"harry\"\n",
        "givenstr2=\"hermione\"\n",
        "new=\"\"\n",
        "new1=\"\"\n",
        "\n",
        "\n",
        "for i in givenstr1:\n",
        "  for j in givenstr2:\n",
        "    if i==j:\n",
        "      new+=i\n",
        "\n",
        "\n",
        "\n",
        "for x in givenstr2:\n",
        "  for y in givenstr1:\n",
        "    if x==y:\n",
        "      new1+=x\n",
        "\n",
        "if len(new)>0:\n",
        "  print(new+new1)\n",
        "else:\n",
        "  print(\"nothing in common\")\n",
        "\n",
        "\n"
      ],
      "metadata": {
        "id": "Fe88keGnhpPS",
        "colab": {
          "base_uri": "https://localhost:8080/"
        },
        "outputId": "7d6f1160-e5cc-4856-860e-4eb676bf5072"
      },
      "execution_count": null,
      "outputs": [
        {
          "output_type": "stream",
          "name": "stdout",
          "text": [
            "hrrhrr\n"
          ]
        }
      ]
    },
    {
      "cell_type": "markdown",
      "source": [],
      "metadata": {
        "id": "HI3hasdypaJe"
      }
    },
    {
      "cell_type": "code",
      "source": [],
      "metadata": {
        "id": "av7zsBWhpakl"
      },
      "execution_count": null,
      "outputs": []
    },
    {
      "cell_type": "code",
      "source": [],
      "metadata": {
        "id": "yO8neKL-30rY"
      },
      "execution_count": null,
      "outputs": []
    },
    {
      "cell_type": "markdown",
      "source": [
        "Dictionary 1"
      ],
      "metadata": {
        "id": "NO1_tH2AqD0h"
      }
    },
    {
      "cell_type": "code",
      "source": [
        "dic1 = {'a':100,'b':100,'c':200,'d':300}\n",
        "dic2 = {'a':300,'b':200,'d':400,'e':200}\n",
        "lst=[]\n",
        "lst1=[]\n",
        "for k,v in dic1.items():\n",
        "  if k in dic2:\n",
        "    dic1[k] += dic2[k]\n",
        "  else:\n",
        "    dic2[k] = v\n",
        "    dic1[k] = dic2[k]\n",
        "for k,v in dic2.items():\n",
        "  if k not in dic1:\n",
        "    dic1[k] = v\n",
        "print(dic1)\n",
        "for k,v in dic1.items():\n",
        "  if v not in lst1:\n",
        "    lst1.append(v)\n",
        "\n",
        "for i in lst1:\n",
        "  if i>max;\n",
        "\n",
        "\n",
        "print(tuple(lst1))"
      ],
      "metadata": {
        "colab": {
          "base_uri": "https://localhost:8080/"
        },
        "id": "-fOEBZC5qEGZ",
        "outputId": "8d417826-4ba2-45b2-8b99-8ba8915f125f"
      },
      "execution_count": null,
      "outputs": [
        {
          "output_type": "stream",
          "name": "stdout",
          "text": [
            "{'a': 400, 'b': 300, 'c': 200, 'd': 700, 'e': 200}\n",
            "(400, 300, 200, 700)\n"
          ]
        }
      ]
    },
    {
      "cell_type": "markdown",
      "source": [
        "Dictionary 2"
      ],
      "metadata": {
        "id": "IUiJo1W-tJ9-"
      }
    },
    {
      "cell_type": "code",
      "source": [
        "word = input()\n",
        "dic1={}\n",
        "while word != 'STOP':\n",
        "  if word in dic1:\n",
        "    dic1[int(word)]+=1\n",
        "  else:\n",
        "    dic1[int(word)] = 1\n",
        "  word = input()\n",
        "for k,v in dic1.items():\n",
        "  print(f'{k}-{v} times')"
      ],
      "metadata": {
        "colab": {
          "base_uri": "https://localhost:8080/"
        },
        "id": "yKxaiLMmrOC1",
        "outputId": "1bf904be-a80a-4fed-dc39-651ea96e04cc"
      },
      "execution_count": null,
      "outputs": [
        {
          "output_type": "stream",
          "name": "stdout",
          "text": [
            "10\n",
            "20\n",
            "30\n",
            "10\n",
            "STOP\n",
            "10-1times\n",
            "20-1times\n",
            "30-1times\n"
          ]
        }
      ]
    },
    {
      "cell_type": "markdown",
      "source": [
        "Dtionary 3"
      ],
      "metadata": {
        "id": "9lpqh1ThvLsU"
      }
    },
    {
      "cell_type": "code",
      "source": [
        "dic1 = {'key1':'value1','key2':'value2','key3':'value1'}\n",
        "dic2 = {}\n",
        "for k,v in dic1.items():\n",
        "  if v in dic2:\n",
        "    dic2[v].append(k)\n",
        "  else:\n",
        "    dic2[v] = [k]\n",
        "print(dic2)"
      ],
      "metadata": {
        "id": "tIYlwEFbvLmE",
        "colab": {
          "base_uri": "https://localhost:8080/"
        },
        "outputId": "e5a4853c-2ec5-4a43-aec3-7338cd6d8629"
      },
      "execution_count": null,
      "outputs": [
        {
          "output_type": "stream",
          "name": "stdout",
          "text": [
            "{'value1': ['key1', 'key3'], 'value2': ['key2']}\n"
          ]
        }
      ]
    },
    {
      "cell_type": "markdown",
      "source": [
        "Dictionary 4"
      ],
      "metadata": {
        "id": "4gpg901RvLaU"
      }
    },
    {
      "cell_type": "code",
      "source": [
        "dic = {1:'.,?!:',2:'ABC',3:'DEF',4:'GHI',5:'JKL',6:'MNO',7:'PQRS',8:'TUV',9:'WXYZ',0:' '}\n",
        "user=input()\n",
        "for i in :\n",
        "  if 'a'<=i<='z':\n",
        "    new += chr(ord(i)-32)\n",
        "  else:\n",
        "    new += i"
      ],
      "metadata": {
        "id": "iI0wGvJvvLNU"
      },
      "execution_count": null,
      "outputs": []
    }
  ]
}