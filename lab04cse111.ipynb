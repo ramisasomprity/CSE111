{
  "nbformat": 4,
  "nbformat_minor": 0,
  "metadata": {
    "colab": {
      "provenance": []
    },
    "kernelspec": {
      "name": "python3",
      "display_name": "Python 3"
    },
    "language_info": {
      "name": "python"
    }
  },
  "cells": [
    {
      "cell_type": "code",
      "execution_count": null,
      "metadata": {
        "colab": {
          "base_uri": "https://localhost:8080/"
        },
        "id": "gkmuf7cV6Nd0",
        "outputId": "f2b6d415-2093-4466-bc9b-e232f4b280a2"
      },
      "outputs": [
        {
          "output_type": "stream",
          "name": "stdout",
          "text": [
            "Student name and department need to be set\n",
            "=========================\n",
            "Department for Carol needs to be set\n",
            "=========================\n",
            "Jon is from EEE department\n",
            "=========================\n",
            "###########################\n",
            "Name: Bob\n",
            "Department: CSE\n",
            "Bob enrolled in 3 course(s): \n",
            "CSE110\n",
            "MAT110\n",
            "ENG091\n",
            "\n",
            "=========================\n",
            "Name: Carol\n",
            "Department: BBA\n",
            "Carol enrolled in 1 course(s): \n",
            "BUS101\n",
            "\n",
            "=========================\n",
            "Name: Jon\n",
            "Department: EEE\n",
            "Jon enrolled in 2 course(s): \n",
            "MAT110\n",
            "PHY111\n",
            "\n"
          ]
        }
      ],
      "source": [
        "class Student:\n",
        "  def __init__(self,name=None,department=None):\n",
        "    self.name=name\n",
        "    self.department=department\n",
        "\n",
        "    if self.name==None and self.department==None:\n",
        "      print(f'Student name and department need to be set')\n",
        "\n",
        "    elif self.name!=None and self.department==None:\n",
        "\n",
        "      print(f'Department for {self.name} needs to be set')\n",
        "\n",
        "    else:\n",
        "\n",
        "      print(f'{self.name} is from {self.department} department')\n",
        "\n",
        "  def update_name(self,name1):\n",
        "    self.name=name1\n",
        "\n",
        "  def update_department(self,dep1):\n",
        "    self.department=dep1\n",
        "\n",
        "  def enroll(self,*subjects):\n",
        "    self.subjects=subjects\n",
        "\n",
        "  def printDetail(self):\n",
        "\n",
        "    print(f'Name: {self.name}')\n",
        "    print(f'Department: {self.department}')\n",
        "    print(f'{self.name} enrolled in {len(self.subjects)} course(s): ')\n",
        "\n",
        "    for i in range(len(self.subjects)):\n",
        "      print(self.subjects[i])\n",
        "    print()\n",
        "\n",
        "s1 = Student()\n",
        "print(\"=========================\")\n",
        "s2 = Student(\"Carol\")\n",
        "print(\"=========================\")\n",
        "s3 = Student(\"Jon\", \"EEE\")\n",
        "print(\"=========================\")\n",
        "s1.update_name(\"Bob\")\n",
        "s1.update_department(\"CSE\")\n",
        "s2.update_department(\"BBA\")\n",
        "s1.enroll(\"CSE110\", \"MAT110\", \"ENG091\")\n",
        "s2.enroll(\"BUS101\")\n",
        "s3.enroll(\"MAT110\", \"PHY111\")\n",
        "print(\"###########################\")\n",
        "s1.printDetail()\n",
        "print(\"=========================\")\n",
        "s2.printDetail()\n",
        "print(\"=========================\")\n",
        "s3.printDetail()\n"
      ]
    },
    {
      "cell_type": "code",
      "source": [
        "\n",
        "\n",
        "\n",
        "class Student:\n",
        "  def __init__(self,name,id,department):\n",
        "    self.name=name\n",
        "    self.id=id\n",
        "    self.department=department\n",
        "\n",
        "  def details(self):\n",
        "    return(f'Name: {self.name}\\n'\n",
        "           f'ID: {self.id}\\n'\n",
        "           f'Department: {self.department}')\n",
        "  def advise(self,*course):\n",
        "    self.course=course\n",
        "    self.credit=float(len(self.course)*3)\n",
        "\n",
        "    print(f'{self.name},you have taken {self.credit} credits')\n",
        "    print('Lists of courses: ',end=\"\")\n",
        "    for i in self.course:\n",
        "      print(i)\n",
        "\n",
        "    if 9.0<=self.credit<=12.0:\n",
        "      print(f'Status: Ok')\n",
        "\n",
        "    elif self.credit>12.0:\n",
        "      print(f'Status: You have to drop at least 1 course ')\n",
        "\n",
        "    else:\n",
        "      print(f'Status: You have to take at least 1 more course.')\n",
        "\n",
        "s1 = Student('Alice','20103012','CSE')\n",
        "s2 = Student('Bob', '18301254','EEE')\n",
        "s3 = Student('Carol', '17101238','CSE')\n",
        "print('##########################')\n",
        "print(s1.details())\n",
        "print('##########################')\n",
        "print(s2.details())\n",
        "print('##########################')\n",
        "s1.advise('CSE110', 'MAT110', 'PHY111')\n",
        "print('##########################')\n",
        "s2.advise('BUS101', 'MAT120')\n",
        "print('##########################')\n",
        "s3.advise('MAT110', 'PHY111', 'ENG102',\n",
        "'CSE111', 'CSE230')\n"
      ],
      "metadata": {
        "colab": {
          "base_uri": "https://localhost:8080/"
        },
        "id": "4_7QFANTCvTE",
        "outputId": "2064fad2-9819-44ee-810b-67be9fd0d9b6"
      },
      "execution_count": null,
      "outputs": [
        {
          "output_type": "stream",
          "name": "stdout",
          "text": [
            "##########################\n",
            "Name: Alice\n",
            "ID: 20103012\n",
            "Department: CSE\n",
            "##########################\n",
            "Name: Bob\n",
            "ID: 18301254\n",
            "Department: EEE\n",
            "##########################\n",
            "Alice,you have taken 9.0 credits\n",
            "Lists of courses: CSE110\n",
            "MAT110\n",
            "PHY111\n",
            "Status: Ok\n",
            "##########################\n",
            "Bob,you have taken 6.0 credits\n",
            "Lists of courses: BUS101\n",
            "MAT120\n",
            "Status: You have to take at least 1 more course.\n",
            "##########################\n",
            "Carol,you have taken 15.0 credits\n",
            "Lists of courses: MAT110\n",
            "PHY111\n",
            "ENG102\n",
            "CSE111\n",
            "CSE230\n",
            "Status: You have to drop at least 1 course \n"
          ]
        }
      ]
    },
    {
      "cell_type": "code",
      "source": [],
      "metadata": {
        "id": "EovIvuXnIqqF"
      },
      "execution_count": null,
      "outputs": []
    }
  ]
}