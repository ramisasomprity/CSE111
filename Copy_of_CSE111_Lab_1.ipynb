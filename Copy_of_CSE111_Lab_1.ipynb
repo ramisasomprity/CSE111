{
  "nbformat": 4,
  "nbformat_minor": 0,
  "metadata": {
    "colab": {
      "provenance": []
    },
    "kernelspec": {
      "name": "python3",
      "display_name": "Python 3"
    },
    "language_info": {
      "name": "python"
    }
  },
  "cells": [
    {
      "cell_type": "markdown",
      "source": [
        "String 1"
      ],
      "metadata": {
        "id": "ruq9M2J5pF8s"
      }
    },
    {
      "cell_type": "code",
      "source": [
        "big = 0\n",
        "smol = 0\n",
        "word = input(\"Word:- \")\n",
        "new = ''\n",
        "for i in word:\n",
        "  if i >= 'A' and i <= \"Z\":\n",
        "    big += 1\n",
        "  else:\n",
        "    smol += 1\n",
        "if big > smol:\n",
        "  for i in word:\n",
        "    if i >= 'a' and i <= 'z':\n",
        "      new += chr(ord(i) - 32)\n",
        "    else:\n",
        "      new += i\n",
        "else:\n",
        "  for i in word:\n",
        "    if i >= 'A' and i <= 'Z':\n",
        "      new += chr(ord(i) + 32)\n",
        "    else:\n",
        "      new += i\n",
        "print(new)"
      ],
      "metadata": {
        "colab": {
          "base_uri": "https://localhost:8080/"
        },
        "id": "Wr7See-apGJU",
        "outputId": "6a7d272c-e9cb-4637-82d9-29d1a00ba7b4"
      },
      "execution_count": null,
      "outputs": [
        {
          "output_type": "stream",
          "name": "stdout",
          "text": [
            "Word:- HOusE\n",
            "HOUSE\n"
          ]
        }
      ]
    },
    {
      "cell_type": "markdown",
      "source": [
        "String 2"
      ],
      "metadata": {
        "id": "Llbp-xfApGkD"
      }
    },
    {
      "cell_type": "code",
      "source": [
        "num = 0\n",
        "word = 0\n",
        "inp = input(\"String:- \")\n",
        "for i in inp:\n",
        "  if i >= \"0\" and i <= \"9\":\n",
        "    num += 1\n",
        "  else:\n",
        "    word += 1\n",
        "if num > 0 and word > 0:\n",
        "  print(\"MIXED\")\n",
        "elif num > 0 and word == 0:\n",
        "  print(\"NUMBER\")\n",
        "elif word > 0 and num == 0:\n",
        "  print('WORD')\n",
        "\n"
      ],
      "metadata": {
        "colab": {
          "base_uri": "https://localhost:8080/"
        },
        "id": "niChRYP-pGzU",
        "outputId": "5d918ab1-b0dc-4a22-902d-d91f38d229b7"
      },
      "execution_count": null,
      "outputs": [
        {
          "output_type": "stream",
          "name": "stdout",
          "text": [
            "String:- Hello\n",
            "WORD\n"
          ]
        }
      ]
    },
    {
      "cell_type": "markdown",
      "source": [
        "String 3"
      ],
      "metadata": {
        "id": "VAUc8ix4m4bV"
      }
    },
    {
      "cell_type": "code",
      "source": [
        "word = input(\"word:- \")\n",
        "new = ''\n",
        "i = 0\n",
        "while ord(word[i]) not in (range(ord('A'),(ord('Z')+1))):\n",
        "  i += 1\n",
        "i += 1\n",
        "while ord(word[i]) not in (range(ord('A'),(ord('Z')+1))):\n",
        "  new += word[i]\n",
        "  i += 1\n",
        "if new == '':\n",
        "  print('BLANK')\n",
        "else:\n",
        "  print(new)\n",
        "\n"
      ],
      "metadata": {
        "colab": {
          "base_uri": "https://localhost:8080/"
        },
        "id": "wcslCrVam4TP",
        "outputId": "44837c0f-c813-4166-da42-6a33d72c1aba"
      },
      "execution_count": null,
      "outputs": [
        {
          "output_type": "stream",
          "name": "stdout",
          "text": [
            "word:- baNgladEsh\n",
            "glad\n"
          ]
        }
      ]
    },
    {
      "cell_type": "markdown",
      "source": [
        "String 4"
      ],
      "metadata": {
        "id": "2h7tK1hgm4KN"
      }
    },
    {
      "cell_type": "code",
      "source": [
        "word1 = input(\"First name:- \")\n",
        "word2 = input(\"Second name:- \")\n",
        "new1 = ''\n",
        "new2 = ''\n",
        "new3 = ''\n",
        "for i in word2:\n",
        "  for j in word1:\n",
        "    if i == j:\n",
        "      new1+= j\n",
        "for i in word1:\n",
        "  for j in word2:\n",
        "    if i == j:\n",
        "      if j not in new3:\n",
        "        new2 += j\n",
        "        new3 += j\n",
        "new4 = new1 + new2\n",
        "if new4 == '':\n",
        "  print('Nothing in common')\n",
        "print(new4)"
      ],
      "metadata": {
        "colab": {
          "base_uri": "https://localhost:8080/"
        },
        "id": "ADh9vv78m4BN",
        "outputId": "e9f01d60-5089-489d-e2ce-840a55c9b814"
      },
      "execution_count": null,
      "outputs": [
        {
          "output_type": "stream",
          "name": "stdout",
          "text": [
            "First name:- danny\n",
            "Second name:- dandellion\n",
            "danndnndan\n"
          ]
        }
      ]
    },
    {
      "cell_type": "markdown",
      "source": [
        "String 5"
      ],
      "metadata": {
        "id": "qhrzJtxum33W"
      }
    },
    {
      "cell_type": "code",
      "source": [
        "L=D=U=S=0\n",
        "word = input(\"New password:- \")\n",
        "for i in word:\n",
        "  if ord(i) in (range(ord('a'),(ord('z')+1))):\n",
        "    L += 1\n",
        "  elif ord(i) in (range(ord('A'),(ord('Z')+1))):\n",
        "    U += 1\n",
        "  elif ord(i)  in (range(ord('0'),(ord('9')+1))):\n",
        "    D += 1\n",
        "  elif i in (\"_$#@\"):\n",
        "    S += 1\n",
        "if L == 0:\n",
        "  print('Lower case charachter missing')\n",
        "if U == 0:\n",
        "  print('Upper case charachter missing')\n",
        "if D == 0:\n",
        "  print('Digit charachter missing')\n",
        "if S == 0:\n",
        "  print('Special charachter missing')\n",
        "if L and U and D and S > 0:\n",
        "  print(\"OK\")"
      ],
      "metadata": {
        "colab": {
          "base_uri": "https://localhost:8080/"
        },
        "id": "bBz2WxVTm3ul",
        "outputId": "3d482f98-c22d-49a6-e66c-4fada53771bf"
      },
      "execution_count": null,
      "outputs": [
        {
          "output_type": "stream",
          "name": "stdout",
          "text": [
            "New password:- ohmybracu\n",
            "Upper case charachter missing\n",
            "Digit charachter missing\n",
            "Special charachter missing\n"
          ]
        }
      ]
    },
    {
      "cell_type": "markdown",
      "source": [
        "List 1"
      ],
      "metadata": {
        "id": "8b37kCD5pG_c"
      }
    },
    {
      "cell_type": "code",
      "source": [
        "lst = []\n",
        "new = []\n",
        "inp = input(\"Number :- \")\n",
        "while inp != \"STOP\":\n",
        "  lst.append(inp)\n",
        "  inp = input(\"Number :- \")\n",
        "for i in lst:\n",
        "  flag = 0\n",
        "  for j in lst:\n",
        "    if j == i:\n",
        "      flag += 1\n",
        "  if i not in new:\n",
        "    new.append(i)\n",
        "    print(i,'-',flag,'times')"
      ],
      "metadata": {
        "colab": {
          "base_uri": "https://localhost:8080/"
        },
        "id": "L--hrENppHI7",
        "outputId": "0354c779-027a-4f93-d689-6ae42fb1caa2"
      },
      "execution_count": null,
      "outputs": [
        {
          "output_type": "stream",
          "name": "stdout",
          "text": [
            "Number :- STOP\n",
            "Number :- STOP\n",
            "Number :- STOP\n",
            "Number :- 50\n",
            "['STOP', 'STOP', 'STOP']\n"
          ]
        }
      ]
    },
    {
      "cell_type": "markdown",
      "source": [
        "List 2"
      ],
      "metadata": {
        "id": "AH99Xq9qpHvc"
      }
    },
    {
      "cell_type": "code",
      "source": [
        "lst_len = int(input(\"How many lists:- \"))\n",
        "tmp_lst = []\n",
        "for i in range((lst_len)):\n",
        "  temp = input(\"List:- \") + \" \"\n",
        "  tmp = temp.split(\" \")\n",
        "  tmp.pop()\n",
        "  tmp_lst.append(tmp)\n",
        "max_sum = 0\n",
        "for i in tmp_lst:\n",
        "  sum = 0\n",
        "  for j in i:\n",
        "    sum += int(j)\n",
        "  if sum > max_sum:\n",
        "    max_sum = sum\n",
        "    indx = i\n",
        "print(max_sum,indx)"
      ],
      "metadata": {
        "colab": {
          "base_uri": "https://localhost:8080/"
        },
        "id": "K9tg4hACpH8e",
        "outputId": "6ed386e7-07f8-413c-a2f6-f8beea301974"
      },
      "execution_count": null,
      "outputs": [
        {
          "output_type": "stream",
          "name": "stdout",
          "text": [
            "List:- 1 2 3\n",
            "List:- 45 85 96\n",
            "List:- 4 2 6\n",
            "List:- 88 22 99\n",
            "226 ['45', '85', '96']\n"
          ]
        }
      ]
    },
    {
      "cell_type": "markdown",
      "source": [
        "List 3"
      ],
      "metadata": {
        "id": "RbGccCFbOfMB"
      }
    },
    {
      "cell_type": "code",
      "source": [
        "tmp_lst = []\n",
        "num=[]\n",
        "for i in range(2):\n",
        "  temp = input(\"List:- \") + \" \"\n",
        "  tmp = temp.split(\" \")\n",
        "  tmp.pop()\n",
        "  tmp_lst.append(tmp)\n",
        "for j in tmp_lst[0]:\n",
        "  flag = 0\n",
        "  while flag != 3:\n",
        "    num.append(int(j)*int(tmp_lst[1][flag]))\n",
        "    flag+=1\n",
        "print(num)"
      ],
      "metadata": {
        "colab": {
          "base_uri": "https://localhost:8080/"
        },
        "id": "JbWnQ6xXOfFx",
        "outputId": "5e5f2aa2-c1bd-45b3-fa89-589ae8775ff6"
      },
      "execution_count": null,
      "outputs": [
        {
          "output_type": "stream",
          "name": "stdout",
          "text": [
            "List:- 2 3 6\n",
            "List:- 3 4 5\n",
            "[6, 8, 10, 9, 12, 15, 18, 24, 30]\n"
          ]
        }
      ]
    },
    {
      "cell_type": "markdown",
      "source": [
        "List 4"
      ],
      "metadata": {
        "id": "A4uvJ2seOe8p"
      }
    },
    {
      "cell_type": "code",
      "source": [
        "lst = []\n",
        "new = []\n",
        "inp = input(\"List:- \") + \" \"\n",
        "while inp != (\"STOP\"+' '):\n",
        "  tmp = []\n",
        "  tmp = inp.split(\" \")\n",
        "  tmp.pop()\n",
        "  flag = 0\n",
        "  while flag != len(tmp)-1:\n",
        "      high = (flag + 1)\n",
        "      temp = int(tmp[high])-int(tmp[flag])\n",
        "      if temp < 0:\n",
        "        temp = -1*temp\n",
        "      new.append(temp)\n",
        "      flag+=1\n",
        "  print(new)\n",
        "  error = 0\n",
        "  print(len(tmp))\n",
        "  for i in new:\n",
        "    if i > len(tmp):\n",
        "      error += 1\n",
        "  if error >0:\n",
        "    print(\"Not UB Jumper\")\n",
        "  else:\n",
        "    print(\"UB jumper\")\n",
        "  inp = input(\"List:- \") + \" \"\n",
        "\n"
      ],
      "metadata": {
        "colab": {
          "base_uri": "https://localhost:8080/"
        },
        "id": "YMi66jSBOe0p",
        "outputId": "3eb3e108-001f-4aa0-cccd-9dcdc0b4803c"
      },
      "execution_count": null,
      "outputs": [
        {
          "name": "stdout",
          "output_type": "stream",
          "text": [
            "List:- 1 4 2 -1 6\n",
            "[3, 2, 3, 7]\n",
            "5\n",
            "Not UB Jumper\n",
            "List:- STOP\n"
          ]
        }
      ]
    },
    {
      "cell_type": "markdown",
      "source": [
        "List 5"
      ],
      "metadata": {
        "id": "PlPrxuW9Oel1"
      }
    },
    {
      "cell_type": "code",
      "source": [
        "stu = int(input(\"Students:- \"))\n",
        "tims = int(input(\"how many times:- \"))\n",
        "err = 0\n",
        "flag = 0\n",
        "hold= input(\"Student participation:- \") + \" \"\n",
        "stu_tims = hold.split(\" \")\n",
        "stu_tims.pop()\n",
        "temp = []\n",
        "for i in range(stu):\n",
        "  min_i = 0\n",
        "  min = int(stu_tims[min_i])\n",
        "  for i in range(len(stu_tims)):\n",
        "    if int(stu_tims[i]) < min:\n",
        "      min = int(stu_tims[i])\n",
        "      min_i = i\n",
        "  temp.append(int(stu_tims.pop(min_i)))\n",
        "print(temp)\n",
        "while len(temp) % 3 != 0:\n",
        "  temp.pop()\n",
        "c = 3\n",
        "while (c <= len(temp)) and (err==0):\n",
        "  for i in range(c):\n",
        "    if (temp[i] + tims) > 5:\n",
        "      err += 1\n",
        "    else:\n",
        "      flag += 1\n",
        "  c+=3\n",
        "if flag > 3:\n",
        "  flag -= 3\n",
        "flag2 = flag//3\n",
        "print(flag2)"
      ],
      "metadata": {
        "id": "1yUMXOp9OeaJ",
        "colab": {
          "base_uri": "https://localhost:8080/"
        },
        "outputId": "a3c43156-e6df-4418-be06-2986d0980937"
      },
      "execution_count": null,
      "outputs": [
        {
          "output_type": "stream",
          "name": "stdout",
          "text": [
            "Students:- 5\n",
            "how many times:- 2\n",
            "Student participation:- 0 4 5 1 0\n",
            "[0, 0, 1, 4, 5]\n",
            "1\n"
          ]
        }
      ]
    },
    {
      "cell_type": "markdown",
      "source": [
        "Dictionary 1 (unfinished)"
      ],
      "metadata": {
        "id": "vhlS12b_Qudy"
      }
    },
    {
      "cell_type": "code",
      "source": [
        "Dword = 'a: 100, b: 100, c: 200, d: 300'\n",
        "new = word.split(', ')\n",
        "dic1 = {}\n",
        "for i in new:\n",
        "  new2 = i.split(': ')\n",
        "  dic1[new2[0]] = int(new2[1])\n",
        "  new2 = []\n",
        "word = 'a: 300, b: 200, d: 400, e: 200'\n",
        "new = word.split(', ')\n",
        "dic2 = {}\n",
        "for i in new:\n",
        "  new2 = i.split(': ')\n",
        "  dic2[new2[0]] = int(new2[1])\n",
        "  new2 = []\n",
        "for k,v in dic1.items():\n",
        "  if k in dic2:\n",
        "    dic2[k]+=v\n",
        "  else:\n",
        "    dic2[k] = v\n",
        "dic4 = {}\n",
        "dic3 = dic2.copy()\n",
        "#print(dic3)\n",
        "for i in dic2:\n",
        "  min = ord(i)\n",
        "  val = dic2[i]\n",
        "  print(dic3,'dic3')\n",
        "  for k,v in dic3.items():\n",
        "    if ord(k) < min:\n",
        "      min = ord(k)\n",
        "      val = v\n",
        "    else:\n",
        "      break\n",
        "  if chr(min) in dic3:\n",
        "    dic4[min] = val\n",
        "  print(dic4,'dic4')\n",
        "  dic3.pop(min)\n",
        "  #print(dic3)\n",
        "#print(dic4)\n",
        "\n"
      ],
      "metadata": {
        "id": "NJ3HquneQuW-",
        "outputId": "cd303f10-b9ab-4292-b20b-ddc8ac51ead1",
        "colab": {
          "base_uri": "https://localhost:8080/",
          "height": 235
        }
      },
      "execution_count": null,
      "outputs": [
        {
          "output_type": "error",
          "ename": "IndexError",
          "evalue": "ignored",
          "traceback": [
            "\u001b[0;31m---------------------------------------------------------------------------\u001b[0m",
            "\u001b[0;31mIndexError\u001b[0m                                Traceback (most recent call last)",
            "\u001b[0;32m<ipython-input-4-d0614ff79637>\u001b[0m in \u001b[0;36m<module>\u001b[0;34m\u001b[0m\n\u001b[1;32m      4\u001b[0m \u001b[0;32mfor\u001b[0m \u001b[0mi\u001b[0m \u001b[0;32min\u001b[0m \u001b[0mnew\u001b[0m\u001b[0;34m:\u001b[0m\u001b[0;34m\u001b[0m\u001b[0;34m\u001b[0m\u001b[0m\n\u001b[1;32m      5\u001b[0m   \u001b[0mnew2\u001b[0m \u001b[0;34m=\u001b[0m \u001b[0mi\u001b[0m\u001b[0;34m.\u001b[0m\u001b[0msplit\u001b[0m\u001b[0;34m(\u001b[0m\u001b[0;34m': '\u001b[0m\u001b[0;34m)\u001b[0m\u001b[0;34m\u001b[0m\u001b[0;34m\u001b[0m\u001b[0m\n\u001b[0;32m----> 6\u001b[0;31m   \u001b[0mdic1\u001b[0m\u001b[0;34m[\u001b[0m\u001b[0mnew2\u001b[0m\u001b[0;34m[\u001b[0m\u001b[0;36m0\u001b[0m\u001b[0;34m]\u001b[0m\u001b[0;34m]\u001b[0m \u001b[0;34m=\u001b[0m \u001b[0mint\u001b[0m\u001b[0;34m(\u001b[0m\u001b[0mnew2\u001b[0m\u001b[0;34m[\u001b[0m\u001b[0;36m1\u001b[0m\u001b[0;34m]\u001b[0m\u001b[0;34m)\u001b[0m\u001b[0;34m\u001b[0m\u001b[0;34m\u001b[0m\u001b[0m\n\u001b[0m\u001b[1;32m      7\u001b[0m   \u001b[0mnew2\u001b[0m \u001b[0;34m=\u001b[0m \u001b[0;34m[\u001b[0m\u001b[0;34m]\u001b[0m\u001b[0;34m\u001b[0m\u001b[0;34m\u001b[0m\u001b[0m\n\u001b[1;32m      8\u001b[0m \u001b[0mword\u001b[0m \u001b[0;34m=\u001b[0m \u001b[0;34m'a: 300, b: 200, d: 400, e: 200'\u001b[0m\u001b[0;34m\u001b[0m\u001b[0;34m\u001b[0m\u001b[0m\n",
            "\u001b[0;31mIndexError\u001b[0m: list index out of range"
          ]
        }
      ]
    },
    {
      "cell_type": "code",
      "source": [
        "d1={'a': 100, 'b': 100, 'c': 200, 'd': 300}\n",
        "d2={'a': 300, 'b': 200, 'd': 400, 'e': 200}\n",
        "\n",
        "d3={}\n",
        "\n",
        "for i,j in d1.items():\n",
        "  if i not in d3.keys():\n",
        "     d3[i]=j\n",
        "for x,y in d2.items():\n",
        "  if x not in d3.keys():\n",
        "    d3[x]=y\n",
        "  else:\n",
        "    d3[x]+=y\n",
        "print(d3)\n",
        "lst=[]\n",
        "\n",
        "for j in d3.values():\n",
        "  if j not in lst:\n",
        "     lst.append(j)\n",
        "\n",
        "lst.sort()\n",
        "print(tuple(lst))"
      ],
      "metadata": {
        "colab": {
          "base_uri": "https://localhost:8080/",
          "height": 217
        },
        "id": "C1w1V_l2-fQK",
        "outputId": "c4b23e81-6750-4fad-968d-fe67c31535ad"
      },
      "execution_count": null,
      "outputs": [
        {
          "output_type": "stream",
          "name": "stdout",
          "text": [
            "{'a': 400, 'b': 300, 'c': 200, 'd': 700, 'e': 200}\n"
          ]
        },
        {
          "output_type": "error",
          "ename": "TypeError",
          "evalue": "ignored",
          "traceback": [
            "\u001b[0;31m---------------------------------------------------------------------------\u001b[0m",
            "\u001b[0;31mTypeError\u001b[0m                                 Traceback (most recent call last)",
            "\u001b[0;32m<ipython-input-8-8cc5c6c03fcc>\u001b[0m in \u001b[0;36m<module>\u001b[0;34m\u001b[0m\n\u001b[1;32m     20\u001b[0m \u001b[0;34m\u001b[0m\u001b[0m\n\u001b[1;32m     21\u001b[0m \u001b[0;34m\u001b[0m\u001b[0m\n\u001b[0;32m---> 22\u001b[0;31m \u001b[0mprint\u001b[0m\u001b[0;34m(\u001b[0m\u001b[0mtuple\u001b[0m\u001b[0;34m(\u001b[0m\u001b[0mlst\u001b[0m\u001b[0;34m.\u001b[0m\u001b[0msort\u001b[0m\u001b[0;34m(\u001b[0m\u001b[0;34m)\u001b[0m\u001b[0;34m)\u001b[0m\u001b[0;34m)\u001b[0m\u001b[0;34m\u001b[0m\u001b[0;34m\u001b[0m\u001b[0m\n\u001b[0m",
            "\u001b[0;31mTypeError\u001b[0m: 'NoneType' object is not iterable"
          ]
        }
      ]
    },
    {
      "cell_type": "markdown",
      "source": [
        "Dictionary 2"
      ],
      "metadata": {
        "id": "tH05uGMSpIte"
      }
    },
    {
      "cell_type": "code",
      "source": [
        "lst = {}\n",
        "inp = input(\"Number :- \")\n",
        "while inp != \"STOP\":\n",
        "  if inp in lst:\n",
        "    lst[inp] += 1\n",
        "  else:\n",
        "    lst[inp] = 1\n",
        "  inp = input(\"Number :- \")\n",
        "print(lst)\n"
      ],
      "metadata": {
        "colab": {
          "base_uri": "https://localhost:8080/"
        },
        "id": "rN-Ss_zlpIQG",
        "outputId": "c5b8df37-f69f-420c-a57c-3b879507cab9"
      },
      "execution_count": null,
      "outputs": [
        {
          "output_type": "stream",
          "name": "stdout",
          "text": [
            "Number :- 30\n",
            "Number :- 20\n",
            "Number :- 10\n",
            "Number :- 20\n",
            "Number :- 10\n",
            "Number :- STOP\n",
            "{'30': 1, '20': 2, '10': 2}\n"
          ]
        }
      ]
    },
    {
      "cell_type": "markdown",
      "source": [
        "Dictionary 3"
      ],
      "metadata": {
        "id": "QBgdldmepJCO"
      }
    },
    {
      "cell_type": "code",
      "source": [
        "word = 'key1 : value1, key2 : value2, key3 : value1'\n",
        "dic1={}\n",
        "dic2={}\n",
        "lis1 = word.split(', ')\n",
        "for i in lis1:\n",
        "  lis2=i.split(' : ')\n",
        "  v , k = lis2\n",
        "  if k in dic2:\n",
        "    dic2[k].append(v)\n",
        "  else:\n",
        "    dic2[k] = [v]\n",
        "print(dic2)"
      ],
      "metadata": {
        "id": "2CsNxY4xpJKX",
        "colab": {
          "base_uri": "https://localhost:8080/"
        },
        "outputId": "36531880-0abd-431b-8de6-8d28ceda0867"
      },
      "execution_count": null,
      "outputs": [
        {
          "output_type": "stream",
          "name": "stdout",
          "text": [
            "{'value1': ['key1', 'key3'], 'value2': ['key2']}\n"
          ]
        }
      ]
    },
    {
      "cell_type": "markdown",
      "source": [
        "Dictionary 4"
      ],
      "metadata": {
        "id": "U4BYpLxCpJSW"
      }
    },
    {
      "cell_type": "code",
      "source": [
        "word = 'Hello, World!'\n",
        "new = ''\n",
        "for i in word:\n",
        "  if 'a'<=i<='z':\n",
        "    new += chr(ord(i)-32)\n",
        "  else:\n",
        "    new += i\n",
        "num = ''\n",
        "dic = {1:'.,?!:',2:'ABC',3:'DEF',4:'GHI',5:'JKL',6:'MNO',7:'PQRS',8:'TUV',9:'WXYZ',0:' '}\n",
        "for i in new:\n",
        "  for j in dic:\n",
        "    #print(j)\n",
        "    if i in dic[j]:\n",
        "      flag = 1\n",
        "      for k in dic[j]:\n",
        "        if i == k:\n",
        "          num += flag * str(j)\n",
        "        else:\n",
        "          flag+=1\n",
        "print(num)"
      ],
      "metadata": {
        "id": "bweHtw2WpJa2",
        "colab": {
          "base_uri": "https://localhost:8080/"
        },
        "outputId": "d3b298a2-054b-4890-c2c0-01a3be7df619"
      },
      "execution_count": null,
      "outputs": [
        {
          "output_type": "stream",
          "name": "stdout",
          "text": [
            "4433555555666110966677755531111\n"
          ]
        }
      ]
    },
    {
      "cell_type": "markdown",
      "source": [
        "Rough work"
      ],
      "metadata": {
        "id": "q56UAPgnSfWY"
      }
    },
    {
      "cell_type": "code",
      "source": [
        "flag = 0\n",
        "while flag != len(tmp)-1:\n",
        "  high = (flag + 1)\n",
        "  temp = int(tmp[high])-int(tmp[flag])\n",
        "  if temp < 0:\n",
        "    temp = -1*temp\n",
        "  new.append(temp)\n",
        "  flag+=1\n",
        "print(new)\n",
        "for i in new:\n",
        "  if i > len(tmp):\n",
        "    error = 1\n",
        "if error == 1:\n",
        "  print(\"Not UB Jumper\")\n",
        "else:\n",
        "  print(\"UB jumper\")"
      ],
      "metadata": {
        "id": "icgEYu9JSgts"
      },
      "execution_count": null,
      "outputs": []
    },
    {
      "cell_type": "code",
      "source": [
        "  for i in new:\n",
        "    if i > len(inp):\n",
        "      error += 1\n",
        "  if error >0:\n",
        "    print(\"Not UB Jumper\")\n",
        "  else:\n",
        "    print(\"UB jumper\")\n",
        "  inp = input(\"List:- \") + \" \""
      ],
      "metadata": {
        "id": "2iuXTwq8d4Ys"
      },
      "execution_count": null,
      "outputs": []
    },
    {
      "cell_type": "code",
      "source": [
        "wordss = 'Hello, World!'\n",
        "newss = ''\n",
        "for i in wordss:\n",
        "  if 'A'<=i<='Z':\n",
        "    newss += chr(ord(i)+32)\n",
        "  else:\n",
        "    newss += i\n",
        "print(newss)"
      ],
      "metadata": {
        "colab": {
          "base_uri": "https://localhost:8080/"
        },
        "id": "JmQbG8Y4hwSk",
        "outputId": "8833e119-113f-4046-b748-d29753075db4"
      },
      "execution_count": null,
      "outputs": [
        {
          "output_type": "stream",
          "name": "stdout",
          "text": [
            "hello, world!\n"
          ]
        }
      ]
    },
    {
      "cell_type": "code",
      "source": [
        "dic1 = {'a': 300, 'b': 200, 'd': 400, 'e': 200}\n",
        "new = {}\n",
        "for i,j in dic1.items():\n",
        "  new[i] = j\n",
        "print(new)"
      ],
      "metadata": {
        "id": "Q2XFuW6RPSNC",
        "colab": {
          "base_uri": "https://localhost:8080/"
        },
        "outputId": "edc6c851-2e4c-44b6-c9d6-82c230ff47ce"
      },
      "execution_count": null,
      "outputs": [
        {
          "output_type": "stream",
          "name": "stdout",
          "text": [
            "{'a': 300, 'b': 200, 'd': 400, 'e': 200}\n"
          ]
        }
      ]
    },
    {
      "cell_type": "markdown",
      "source": [
        "Dictionary 3 (copy)"
      ],
      "metadata": {
        "id": "tdSjn4f7G2Q4"
      }
    },
    {
      "cell_type": "code",
      "source": [
        "inp = 'key1 : value1, key2 : value2, key3 : value1'\n",
        "dic = {}\n",
        "c = []\n",
        "b=[]\n",
        "wrd = inp.split(', ')\n",
        "#print(wrd)\n",
        "for i in wrd:\n",
        "  new = ''\n",
        "  new = i.split(' : ')\n",
        "  #print(new)\n",
        "  a = new[1]\n",
        "  dic[a] = []\n",
        "  b.append(new[0])\n",
        "  print(b)\n",
        "  c = dic[a]\n",
        "  c.append(b[0])\n",
        "  print(dic)\n",
        "  b.pop()\n",
        "  print(b)\n",
        "print(dic)"
      ],
      "metadata": {
        "id": "PTrXTJyAlwpH"
      },
      "execution_count": null,
      "outputs": []
    },
    {
      "cell_type": "code",
      "source": [
        "lis1 = [1, 2, 3, 4, 5]\n",
        "lis2 = lis1.pop(2)\n",
        "print(lis2)\n",
        "print(lis1)"
      ],
      "metadata": {
        "colab": {
          "base_uri": "https://localhost:8080/"
        },
        "id": "QYUsx9bvO2ND",
        "outputId": "782f8567-4b78-4949-8736-15bcbdab5e7f"
      },
      "execution_count": null,
      "outputs": [
        {
          "output_type": "stream",
          "name": "stdout",
          "text": [
            "3\n",
            "[1, 2, 4, 5]\n"
          ]
        }
      ]
    },
    {
      "cell_type": "code",
      "source": [
        "c = [3]\n",
        "b = 0\n",
        "for i in range(c[0]):\n",
        "  b += 1\n",
        "  if b == 2:\n",
        "    c[0]+=3\n",
        "print(b)"
      ],
      "metadata": {
        "id": "WASyC62jO8Nf",
        "colab": {
          "base_uri": "https://localhost:8080/"
        },
        "outputId": "32138058-0479-4788-b168-75142714a57b"
      },
      "execution_count": null,
      "outputs": [
        {
          "output_type": "stream",
          "name": "stdout",
          "text": [
            "3\n"
          ]
        }
      ]
    },
    {
      "cell_type": "code",
      "source": [],
      "metadata": {
        "colab": {
          "base_uri": "https://localhost:8080/",
          "height": 200
        },
        "id": "70EfxrmPOJPc",
        "outputId": "0946a2d6-236b-4e5f-e7d7-5be0d75f8e75"
      },
      "execution_count": null,
      "outputs": [
        {
          "output_type": "error",
          "ename": "KeyError",
          "evalue": "ignored",
          "traceback": [
            "\u001b[0;31m---------------------------------------------------------------------------\u001b[0m",
            "\u001b[0;31mKeyError\u001b[0m                                  Traceback (most recent call last)",
            "\u001b[0;32m<ipython-input-39-c8b2d66e62d0>\u001b[0m in \u001b[0;36m<module>\u001b[0;34m\u001b[0m\n\u001b[1;32m      1\u001b[0m \u001b[0mdic55\u001b[0m\u001b[0;34m=\u001b[0m\u001b[0;34m{\u001b[0m\u001b[0;34m'a'\u001b[0m\u001b[0;34m:\u001b[0m \u001b[0;36m400\u001b[0m\u001b[0;34m,\u001b[0m \u001b[0;34m'b'\u001b[0m\u001b[0;34m:\u001b[0m \u001b[0;36m300\u001b[0m\u001b[0;34m,\u001b[0m \u001b[0;34m'd'\u001b[0m\u001b[0;34m:\u001b[0m \u001b[0;36m700\u001b[0m\u001b[0;34m,\u001b[0m \u001b[0;34m'e'\u001b[0m\u001b[0;34m:\u001b[0m \u001b[0;36m200\u001b[0m\u001b[0;34m,\u001b[0m \u001b[0;34m'c'\u001b[0m\u001b[0;34m:\u001b[0m \u001b[0;36m200\u001b[0m\u001b[0;34m}\u001b[0m\u001b[0;34m\u001b[0m\u001b[0;34m\u001b[0m\u001b[0m\n\u001b[1;32m      2\u001b[0m \u001b[0;32mfor\u001b[0m \u001b[0mi\u001b[0m \u001b[0;32min\u001b[0m \u001b[0mrange\u001b[0m\u001b[0;34m(\u001b[0m\u001b[0mlen\u001b[0m\u001b[0;34m(\u001b[0m\u001b[0mdic55\u001b[0m\u001b[0;34m)\u001b[0m\u001b[0;34m)\u001b[0m\u001b[0;34m:\u001b[0m\u001b[0;34m\u001b[0m\u001b[0;34m\u001b[0m\u001b[0m\n\u001b[0;32m----> 3\u001b[0;31m   \u001b[0mdic55\u001b[0m\u001b[0;34m.\u001b[0m\u001b[0mpop\u001b[0m\u001b[0;34m(\u001b[0m\u001b[0mdic55\u001b[0m\u001b[0;34m[\u001b[0m\u001b[0mi\u001b[0m\u001b[0;34m]\u001b[0m\u001b[0;34m)\u001b[0m\u001b[0;34m\u001b[0m\u001b[0;34m\u001b[0m\u001b[0m\n\u001b[0m",
            "\u001b[0;31mKeyError\u001b[0m: 0"
          ]
        }
      ]
    },
    {
      "cell_type": "code",
      "source": [
        "number, times = [int(i) for i in input().strip().split()]\n",
        "print(len([int(j) for j in input().strip().split() if int(j) + times <= 5])//3)"
      ],
      "metadata": {
        "id": "8peBiHvoYCke",
        "colab": {
          "base_uri": "https://localhost:8080/"
        },
        "outputId": "2549ae48-c882-4b1c-b009-8c96016be851"
      },
      "execution_count": null,
      "outputs": [
        {
          "output_type": "stream",
          "name": "stdout",
          "text": [
            "5 2\n",
            "0 4 5 1 0\n",
            "1\n"
          ]
        }
      ]
    }
  ]
}