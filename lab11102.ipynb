{
  "cells": [
    {
      "cell_type": "code",
      "execution_count": null,
      "metadata": {
        "colab": {
          "base_uri": "https://localhost:8080/",
          "height": 130
        },
        "id": "JlKKbpRXuSjV",
        "outputId": "80b8cef8-7608-43b5-c85f-5b779a8e6139"
      },
      "outputs": [
        {
          "output_type": "error",
          "ename": "SyntaxError",
          "evalue": "ignored",
          "traceback": [
            "\u001b[0;36m  File \u001b[0;32m\"<ipython-input-1-8aee0fc84402>\"\u001b[0;36m, line \u001b[0;32m4\u001b[0m\n\u001b[0;31m    elif a=x/y:\u001b[0m\n\u001b[0m          ^\u001b[0m\n\u001b[0;31mSyntaxError\u001b[0m\u001b[0;31m:\u001b[0m invalid syntax\n"
          ]
        }
      ],
      "source": [
        "def division(x,y):\n",
        "  if y==0:\n",
        "    return(0)\n",
        "  elif a=x/y:\n",
        "    b=a-int(a)\n",
        "    return=b\n",
        "\n",
        "\n",
        "print(division(5,2))\n",
        "\n"
      ]
    },
    {
      "cell_type": "code",
      "source": [],
      "metadata": {
        "id": "NXfi9UKINsqO"
      },
      "execution_count": null,
      "outputs": []
    },
    {
      "cell_type": "code",
      "source": [],
      "metadata": {
        "id": "Rq2IVqXZNvZj"
      },
      "execution_count": null,
      "outputs": []
    },
    {
      "cell_type": "code",
      "execution_count": null,
      "metadata": {
        "colab": {
          "base_uri": "https://localhost:8080/"
        },
        "id": "mxeFPGkQ0mEx",
        "outputId": "e87af00b-2197-4b28-d0a2-28938a5d6388"
      },
      "outputs": [
        {
          "name": "stdout",
          "output_type": "stream",
          "text": [
            "obese\n"
          ]
        }
      ],
      "source": [
        "def calculate(h,w):\n",
        "  bmi=w/(h/100)**2\n",
        "  if bmi>30:\n",
        "    print(\"obese\")\n",
        "  elif bmi<18.5:\n",
        "    print(\"underweight\")\n",
        "  elif 18.5<bmi<24.9:\n",
        "    print(\"normal\")\n",
        "  elif 25<bmi<30:\n",
        "    print(\"overweight\")\n",
        "\n",
        "\n",
        "calculate(175,96)\n",
        "\n",
        "\n"
      ]
    },
    {
      "cell_type": "code",
      "execution_count": null,
      "metadata": {
        "colab": {
          "base_uri": "https://localhost:8080/"
        },
        "id": "4BkosbDA6l8C",
        "outputId": "90cd54e7-e6e8-486c-bc24-b441387c1e15"
      },
      "outputs": [
        {
          "name": "stdout",
          "output_type": "stream",
          "text": [
            "45\n"
          ]
        }
      ],
      "source": [
        "def division (x,y,z):\n",
        "  sum=0\n",
        "  for i in range (x,y):\n",
        "    if i%z==0:\n",
        "      sum+=i\n",
        "\n",
        "  return sum\n",
        "\n",
        "\n",
        "print(division(3,16,3))\n",
        "\n"
      ]
    },
    {
      "cell_type": "code",
      "execution_count": null,
      "metadata": {
        "colab": {
          "base_uri": "https://localhost:8080/"
        },
        "id": "bFimeFS39Pex",
        "outputId": "6f23efd7-c0d3-434e-a79b-d3cf6613f86f"
      },
      "outputs": [
        {
          "output_type": "stream",
          "name": "stdout",
          "text": [
            "223.6\n"
          ]
        }
      ],
      "source": [
        "def chillox(x,y=\"mohakhali\"):\n",
        "  totalcost=0\n",
        "  if x==\"beef burger\" or y==\"mohakhali\":\n",
        "    totalcost=170+40+(170*0.08)\n",
        "    print(totalcost)\n",
        "  else:\n",
        "    totalcost=170+60+(170*0.08)\n",
        "    print(totalcost)\n",
        "\n",
        "chillox('beef burger')\n",
        "\n",
        "\n",
        ""
      ]
    },
    {
      "cell_type": "code",
      "source": [
        "def replace_domain(e,n,o=\"kaaj.com\"):\n",
        "  stri=\"\"\n",
        "  if o in e:\n",
        "    for i in range(len(e)):\n",
        "      if e[i] != '@':\n",
        "        stri+=e[i]\n",
        "      else:\n",
        "        stri+=e[i]+n\n",
        "        break\n",
        "    print(\"changed: \", stri)\n",
        "\n",
        "  else:\n",
        "    print(\"unchanged: \", e)\n",
        "\n",
        "\n",
        "\n",
        "\n",
        "\n",
        "replace_domain(\"alice@kaaj.com\", \"sheba.xyz\", \"kaaj.com\")\n",
        "replace_domain(\"bob@sheba.xyz\", \"sheba.xyz\")"
      ],
      "metadata": {
        "colab": {
          "base_uri": "https://localhost:8080/"
        },
        "id": "CtOJPMJVN2CC",
        "outputId": "807893f4-12bd-419f-afe3-28b8c7fb52b1"
      },
      "execution_count": null,
      "outputs": [
        {
          "output_type": "stream",
          "name": "stdout",
          "text": [
            "changed:  alice@sheba.xyz\n",
            "unchanged:  bob@sheba.xyz\n"
          ]
        }
      ]
    },
    {
      "cell_type": "code",
      "source": [
        "def vowel(name):\n",
        "  v=\"aeiou\"\n",
        "  stri=\"\"\n",
        "  counter=0\n",
        "\n",
        "  for i in name:\n",
        "    if i in v:\n",
        "      stri+=i+\",\"\n",
        "      counter+=1\n",
        "  if counter>0:\n",
        "    print(f\" vowels : {stri[:-1]}.total number of vowels {counter}\")\n",
        "  else:\n",
        "    print(\"no vowel\")\n",
        "\n",
        "\n",
        "\n",
        "\n",
        "vowel(\"adjuo\")\n",
        "vowel(\"xtreryt\")\n"
      ],
      "metadata": {
        "colab": {
          "base_uri": "https://localhost:8080/"
        },
        "id": "6kA_Dh6jaXoM",
        "outputId": "33169af4-fc2f-45f7-bb9f-941b50b62075"
      },
      "execution_count": null,
      "outputs": [
        {
          "output_type": "stream",
          "name": "stdout",
          "text": [
            " vowels : a,u,o.total number of vowels 3\n",
            " vowels : e.total number of vowels 1\n"
          ]
        }
      ]
    },
    {
      "cell_type": "code",
      "source": [
        "def palindrome(name):\n",
        "  stri=\"\"\n",
        "  for i in name:\n",
        "    if i!=\" \":\n",
        "      stri+=i\n",
        "  if\n",
        "\n",
        "\n",
        "\n",
        "\n",
        "\n",
        "\n"
      ],
      "metadata": {
        "id": "R7ZTWFgwggFV"
      },
      "execution_count": null,
      "outputs": []
    },
    {
      "cell_type": "code",
      "source": [
        "def palindrome(word):\n",
        "  reverse = ''\n",
        "  old = ''\n",
        "  for i in range(len(word)):\n",
        "    if word[i] != ' ':\n",
        "      old += word[i]\n",
        "  print(old)\n",
        "  for i in range(-1,-len(old)-1,-1):\n",
        "    reverse += old[i]\n",
        "  print(reverse)\n",
        "  if old == reverse:\n",
        "    print(\"Palindrome\")\n",
        "  else:\n",
        "    print(\"Not a palindrome\")\n",
        "\n",
        "palindrome(\"nurses run\")"
      ],
      "metadata": {
        "colab": {
          "base_uri": "https://localhost:8080/"
        },
        "id": "8ek6ZuOrkm5p",
        "outputId": "643bf602-0e2e-4d19-b50c-f44e5498aa42"
      },
      "execution_count": null,
      "outputs": [
        {
          "output_type": "stream",
          "name": "stdout",
          "text": [
            "nursesrun\n",
            "nursesrun\n",
            "Palindrome\n"
          ]
        }
      ]
    },
    {
      "cell_type": "code",
      "source": [
        "def time(x):\n",
        "  z = x//365\n",
        "  w = (x%365)//30\n",
        "  y = (x%365)%30\n",
        "  print(f\"{z} years, {w} months and {y} days\")\n",
        "\n",
        "#x = int(input())\n",
        "#result = time (x)\n",
        "time(int(input()))"
      ],
      "metadata": {
        "id": "z16AvGHXl3g1"
      },
      "execution_count": null,
      "outputs": []
    },
    {
      "cell_type": "code",
      "source": [
        "def sentence(sen):\n",
        "  new = ''\n",
        "  for i in range(len(sen)):\n",
        "    if i == 0:\n",
        "      if 'a'<=sen[i]<='z':\n",
        "        new+=chr(ord(sen[i])-32)\n",
        "    elif sen[i] == 'i':\n",
        "      new += 'I'\n",
        "    elif sen[i-2] in (\".!?\") and i!=1:\n",
        "      new+=chr(ord(sen[i])-32)\n",
        "    else:\n",
        "      new+=sen[i]\n",
        "\n",
        "  print(new)\n",
        "\n",
        "sentence(input())\n",
        "\n",
        "\n",
        "\n",
        "\n",
        ""
      ],
      "metadata": {
        "colab": {
          "base_uri": "https://localhost:8080/"
        },
        "id": "LprslTVwmTzU",
        "outputId": "c8de0b58-8e0d-4b46-8485-03b0a2e22001"
      },
      "execution_count": null,
      "outputs": [
        {
          "output_type": "stream",
          "name": "stdout",
          "text": [
            "my favourite animal is a dog. a dog has sharp teeth so that it can eat flesh very easily.do you know my pet dog’s name? i love my pet very much.\n",
            "My favourIte anImal Is a dog. A dog has sharp teeth so that It can eat flesh very easIly.dO you know my pet dog’s name? I love my pet very much.\n"
          ]
        }
      ]
    },
    {
      "cell_type": "code",
      "source": [
        "def caps(text):\n",
        "  temp = text[0].upper()\n",
        "  num = 1\n",
        "  while num < len(text):\n",
        "    if text[num] in \".?!\" and num != len(text)-1:\n",
        "      temp += text[num] + \" \" + text[num+2].upper()\n",
        "      num += 3\n",
        "    elif text[num-1:num+2] == \" i \" :\n",
        "      temp += \"I\"\n",
        "      num += 1\n",
        "    else:\n",
        "      temp += text[num]\n",
        "      num += 1\n",
        "  return temp\n",
        "\n",
        "print(caps(input()))"
      ],
      "metadata": {
        "id": "Hxc08ZceqqWD"
      },
      "execution_count": null,
      "outputs": []
    },
    {
      "cell_type": "code",
      "source": [
        "def sentence(sen)"
      ],
      "metadata": {
        "id": "5I25vqk-q3cS"
      },
      "execution_count": null,
      "outputs": []
    }
  ],
  "metadata": {
    "colab": {
      "provenance": []
    },
    "kernelspec": {
      "display_name": "Python 3",
      "name": "python3"
    },
    "language_info": {
      "name": "python"
    }
  },
  "nbformat": 4,
  "nbformat_minor": 0
}