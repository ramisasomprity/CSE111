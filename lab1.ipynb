{
  "nbformat": 4,
  "nbformat_minor": 0,
  "metadata": {
    "colab": {
      "provenance": []
    },
    "kernelspec": {
      "name": "python3",
      "display_name": "Python 3"
    },
    "language_info": {
      "name": "python"
    }
  },
  "cells": [
    {
      "cell_type": "code",
      "execution_count": null,
      "metadata": {
        "colab": {
          "base_uri": "https://localhost:8080/"
        },
        "id": "MUYc9oZKRrf0",
        "outputId": "0214d714-2f98-4c42-ce38-e846fca2dfa5"
      },
      "outputs": [
        {
          "output_type": "stream",
          "name": "stdout",
          "text": [
            "hello world\n"
          ]
        }
      ],
      "source": [
        "print(\"hello world\")"
      ]
    },
    {
      "cell_type": "markdown",
      "source": [],
      "metadata": {
        "id": "3tdfrmJQwYWd"
      }
    },
    {
      "cell_type": "code",
      "source": [
        "print(54+56)"
      ],
      "metadata": {
        "colab": {
          "base_uri": "https://localhost:8080/"
        },
        "id": "Wt7HnnFqdLek",
        "outputId": "db76979f-41dc-408f-c13f-17ca44afb107"
      },
      "execution_count": null,
      "outputs": [
        {
          "output_type": "stream",
          "name": "stdout",
          "text": [
            "110\n"
          ]
        }
      ]
    },
    {
      "cell_type": "code",
      "source": [
        "season=\"fall\"\n",
        "year= 2022\n",
        "print(season)\n",
        "print(year)"
      ],
      "metadata": {
        "colab": {
          "base_uri": "https://localhost:8080/"
        },
        "id": "_96g5iATdbB6",
        "outputId": "52babe78-f2db-40d9-d7af-213874fe2caa"
      },
      "execution_count": null,
      "outputs": [
        {
          "output_type": "stream",
          "name": "stdout",
          "text": [
            "fall\n",
            "2022\n"
          ]
        }
      ]
    },
    {
      "cell_type": "code",
      "source": [
        "name=input(\"enter your name: \")\n",
        "print(\"your name is\",name,\".\")\n",
        "print(\"your name is\",name+\".\")"
      ],
      "metadata": {
        "colab": {
          "base_uri": "https://localhost:8080/"
        },
        "id": "0NFY5weygsvs",
        "outputId": "5015c3bd-c139-4964-c90f-b23f05e18993"
      },
      "execution_count": null,
      "outputs": [
        {
          "output_type": "stream",
          "name": "stdout",
          "text": [
            "enter your name: john\n",
            "your name is john .\n",
            "your name is john.\n"
          ]
        }
      ]
    },
    {
      "cell_type": "code",
      "source": [
        "\n",
        "m=int(input(\"entre a number:\"))\n",
        "n=int(input(\"entre a number:\"))\n",
        "\n",
        "\n",
        "print(f\"{m}^{n}:{m**n}\")\n"
      ],
      "metadata": {
        "colab": {
          "base_uri": "https://localhost:8080/"
        },
        "id": "XXoxB7X6ntGy",
        "outputId": "02714f25-9c0c-4356-ab14-ac2390375ade"
      },
      "execution_count": null,
      "outputs": [
        {
          "output_type": "stream",
          "name": "stdout",
          "text": [
            "entre a number:3\n",
            "entre a number:9\n",
            "3^9:19683\n"
          ]
        }
      ]
    },
    {
      "cell_type": "code",
      "source": [
        "weights=int(input())\n",
        "remainder=weights%4\n",
        "print(weights-remainder)"
      ],
      "metadata": {
        "colab": {
          "base_uri": "https://localhost:8080/"
        },
        "id": "Tffg-YI0jkvh",
        "outputId": "19a243cd-e8d1-4b7d-9e7c-16b241702e73"
      },
      "execution_count": null,
      "outputs": [
        {
          "output_type": "stream",
          "name": "stdout",
          "text": [
            "11\n",
            "8\n"
          ]
        }
      ]
    },
    {
      "cell_type": "code",
      "source": [
        "M=input(\"enter a value:\")\n",
        "N=input(\"entre a value:\")\n",
        "print(N+M)"
      ],
      "metadata": {
        "colab": {
          "base_uri": "https://localhost:8080/"
        },
        "id": "iHYHY8aOnEWe",
        "outputId": "98ae235d-c0f3-4080-c27c-992b30edf172"
      },
      "execution_count": null,
      "outputs": [
        {
          "output_type": "stream",
          "name": "stdout",
          "text": [
            "enter a value:HELLO\n",
            "entre a value:WORLD\n",
            "WORLDHELLO\n"
          ]
        }
      ]
    },
    {
      "cell_type": "code",
      "source": [
        "line=input()\n",
        "print(line[0])"
      ],
      "metadata": {
        "colab": {
          "base_uri": "https://localhost:8080/"
        },
        "id": "E_hoImpqxJ2Q",
        "outputId": "803b7024-61af-4133-f7ac-a686d14775ee"
      },
      "execution_count": null,
      "outputs": [
        {
          "output_type": "stream",
          "name": "stdout",
          "text": [
            "FEHHRIRIGT\n",
            "F\n"
          ]
        }
      ]
    },
    {
      "cell_type": "code",
      "source": [
        "number=int(input())\n",
        "if(number%2==0):\n",
        "  print(\"true\")\n",
        "else:\n",
        "  print(\"false\")"
      ],
      "metadata": {
        "colab": {
          "base_uri": "https://localhost:8080/"
        },
        "id": "Y1YHSFtzyYfG",
        "outputId": "ac21e494-34b2-4052-e117-d55a01fa82be"
      },
      "execution_count": null,
      "outputs": [
        {
          "output_type": "stream",
          "name": "stdout",
          "text": [
            "-11\n",
            "false\n"
          ]
        }
      ]
    },
    {
      "cell_type": "code",
      "source": [
        "a=int(input())\n",
        "b=int(input())\n",
        "c=int(input())\n",
        "d=float(input())\n",
        "print(a**c+b*a-d/3)"
      ],
      "metadata": {
        "colab": {
          "base_uri": "https://localhost:8080/"
        },
        "id": "eYSU-8PuzG0e",
        "outputId": "d49871ba-8130-4b4e-aea9-79ed7308c7b9"
      },
      "execution_count": null,
      "outputs": [
        {
          "output_type": "stream",
          "name": "stdout",
          "text": [
            "2\n",
            "6\n",
            "8\n",
            "1.3\n",
            "267.56666666666666\n"
          ]
        }
      ]
    },
    {
      "cell_type": "code",
      "source": [],
      "metadata": {
        "id": "B8-m4NaHzk_d"
      },
      "execution_count": null,
      "outputs": []
    },
    {
      "cell_type": "code",
      "source": [
        "intialAmountofChocolate=int(input())\n",
        "chotolateforFriend=int(intialAmountofChocolate//3)\n",
        "chocotateLeft=int(intialAmountofChocolate%3)\n",
        "print(chotolateforFriend)\n",
        "print(chocotateLeft)"
      ],
      "metadata": {
        "colab": {
          "base_uri": "https://localhost:8080/"
        },
        "id": "E2PcBIAgh5nl",
        "outputId": "6c4be952-8704-4b5d-fc23-b9f250a79241"
      },
      "execution_count": null,
      "outputs": [
        {
          "output_type": "stream",
          "name": "stdout",
          "text": [
            "50\n",
            "16\n",
            "2\n"
          ]
        }
      ]
    }
  ]
}