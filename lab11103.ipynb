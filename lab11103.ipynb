{
  "nbformat": 4,
  "nbformat_minor": 0,
  "metadata": {
    "colab": {
      "provenance": []
    },
    "kernelspec": {
      "name": "python3",
      "display_name": "Python 3"
    },
    "language_info": {
      "name": "python"
    }
  },
  "cells": [
    {
      "cell_type": "code",
      "execution_count": null,
      "metadata": {
        "colab": {
          "base_uri": "https://localhost:8080/"
        },
        "id": "9rM5RRq1ydSr",
        "outputId": "f9b06212-3e80-4987-e9a3-aa33f9918177"
      },
      "outputs": [
        {
          "output_type": "stream",
          "name": "stdout",
          "text": [
            "Integer\n",
            "1234\n",
            "=====================\n",
            "String\n",
            "Hello\n",
            "=====================\n",
            "Float\n",
            "4.0\n"
          ]
        }
      ],
      "source": [
        "class DataType():\n",
        "  def __init__(self,name1,value1):\n",
        "    self.name=name1\n",
        "    self.value=value1\n",
        "\n",
        "\n",
        "\n",
        "\n",
        "\n",
        "\n",
        "\n",
        "data_type1 = DataType(\"Integer\", 1234)\n",
        "print(data_type1.name)\n",
        "print(data_type1.value)\n",
        "print('=====================')\n",
        "data_type2 = DataType(\"String\", 'Hello')\n",
        "print(data_type2.name)\n",
        "print(data_type2.value)\n",
        "print('=====================')\n",
        "data_type3 = DataType('Float', 4.0)\n",
        "print(data_type3.name)\n",
        "print(data_type3.value)"
      ]
    },
    {
      "cell_type": "code",
      "source": [
        "class Country():\n",
        "  def __init__(self,name1=\"Bangladesh\",continent=\"Asia\",capital=\"Dhaka\",fifaranking=187):\n",
        "    self.name=name1\n",
        "    self.continent=continent\n",
        "    self.capital=capital\n",
        "    self.fifa_ranking=fifaranking\n",
        "\n",
        "\n",
        "\n",
        "\n",
        "\n",
        "\n",
        "\n",
        "\n",
        "\n",
        "\n",
        "country = Country()\n",
        "print(\"Name:\",country.name)\n",
        "print(\"Continent:\",country.continent)\n",
        "print(\"Capital:\",country.capital)\n",
        "print(\"Fifa Ranking:\",country.fifa_ranking)\n",
        "print(\"===================\")\n",
        "country.name = 'Belgium'\n",
        "country.continent = 'Europe'\n",
        "country.capital = 'Brussels'\n",
        "country.fifa_ranking = 1\n",
        "print(\"Name:\",country.name)\n",
        "print(\"Continent:\",country.continent)\n",
        "print(\"Capital:\",country.capital)\n",
        "print(\"Fifa Ranking:\",country.fifa_ranking)"
      ],
      "metadata": {
        "id": "3ITEy5488I2g",
        "colab": {
          "base_uri": "https://localhost:8080/"
        },
        "outputId": "f0ab1de6-12a2-4263-c09d-2fd025b0edd5"
      },
      "execution_count": null,
      "outputs": [
        {
          "output_type": "stream",
          "name": "stdout",
          "text": [
            "Name: Bangladesh\n",
            "Continent: Asia\n",
            "Capital: Dhaka\n",
            "Fifa Ranking: 187\n",
            "===================\n",
            "Name: Belgium\n",
            "Continent: Europe\n",
            "Capital: Brussels\n",
            "Fifa Ranking: 1\n"
          ]
        }
      ]
    },
    {
      "cell_type": "code",
      "source": [
        "class Joker ():\n",
        "  def __init__(self,name,power,torf):\n",
        "    self.name=name\n",
        "    self.power=power\n",
        "    self.is_he_psycho=torf\n",
        "\n",
        "\n",
        "\n",
        "\n",
        "\n",
        "j1 = Joker('Heath Ledger', 'Mind Game', False)\n",
        "print(j1.name)\n",
        "print(j1.power)\n",
        "print(j1.is_he_psycho)\n",
        "print('=====================')\n",
        "j2 = Joker('Joaquin Phoenix', 'Laughing out Loud', True)\n",
        "print(j2.name)\n",
        "print(j2.power)\n",
        "print(j2.is_he_psycho)\n",
        "print('=====================')\n",
        "if j1 == j2:\n",
        "    print('same')\n",
        "else:\n",
        "    print('different')\n",
        "j2.name = 'Heath Ledger'\n",
        "if j1.name == j2.name:\n",
        "    print('same')\n",
        "else:\n",
        "    print('different')"
      ],
      "metadata": {
        "colab": {
          "base_uri": "https://localhost:8080/"
        },
        "id": "ZmOr0W3UArEf",
        "outputId": "83679a3e-6d86-4091-a6e2-98a08484a023"
      },
      "execution_count": null,
      "outputs": [
        {
          "output_type": "stream",
          "name": "stdout",
          "text": [
            "Heath Ledger\n",
            "Mind Game\n",
            "False\n",
            "=====================\n",
            "Joaquin Phoenix\n",
            "Laughing out Loud\n",
            "True\n",
            "=====================\n",
            "different\n",
            "same\n"
          ]
        }
      ]
    },
    {
      "cell_type": "code",
      "source": [
        "class Pokemon():\n",
        "  def __init__(self,poke,poke1,num1,num2,num3):\n",
        "    self.pokemon1_name=poke\n",
        "    self.pokemon2_name=poke1\n",
        "    self.pokemon1_power=num1\n",
        "    self.pokemon2_power=num2\n",
        "    self.damage_rate=num3\n",
        "\n",
        "\n",
        "\n",
        "team_pika = Pokemon('pikachu', 'charmander', 90, 60, 10)\n",
        "print('=======Team 1=======')\n",
        "print('Pokemon 1:',team_pika.pokemon1_name, team_pika.pokemon1_power)\n",
        "print('Pokemon 2:',team_pika.pokemon2_name, team_pika.pokemon2_power)\n",
        "pika_combined_power = (team_pika.pokemon1_power + team_pika.pokemon2_power) * team_pika.damage_rate\n",
        "print('Combined Power:', pika_combined_power)\n",
        "team_pika = Pokemon('‘bulbasaur’', '‘squirtle’', 80, 70, 9)\n",
        "print('=======Team 2=======')\n",
        "print('Pokemon 1:',team_pika.pokemon1_name, team_pika.pokemon1_power)\n",
        "print('Pokemon 2:',team_pika.pokemon2_name, team_pika.pokemon2_power)\n",
        "pika_combined_power = (team_pika.pokemon1_power + team_pika.pokemon2_power) * team_pika.damage_rate\n",
        "print('Combined Power:', pika_combined_power)\n"
      ],
      "metadata": {
        "colab": {
          "base_uri": "https://localhost:8080/"
        },
        "id": "70jdiHfsB4F8",
        "outputId": "ada8d51c-5c47-45fb-c77f-d4503f5a090c"
      },
      "execution_count": null,
      "outputs": [
        {
          "output_type": "stream",
          "name": "stdout",
          "text": [
            "=======Team 1=======\n",
            "Pokemon 1: pikachu 90\n",
            "Pokemon 2: charmander 60\n",
            "Combined Power: 1500\n",
            "=======Team 2=======\n",
            "Pokemon 1: ‘bulbasaur’ 80\n",
            "Pokemon 2: ‘squirtle’ 70\n",
            "Combined Power: 1350\n"
          ]
        }
      ]
    },
    {
      "cell_type": "code",
      "source": [
        "class buttons():\n",
        "  def __init__(self,word1, spaces,border):\n",
        "    self.word=word1\n",
        "    self.spaces=spaces\n",
        "    self.border= border\n",
        "    self.num=1+ self.spaces+ len(self.word)+ self.spaces+1\n",
        "    print(self.word ,\"Button Specifications:\")\n",
        "    print(\"button name: \",self.word)\n",
        "    print(\"Number of the border characters for the top and the bottom:\" , self.border)\n",
        "    print(\"Number of spaces between the left side border and the first character of the button name\", self.spaces)\n",
        "    print(\"Number of spaces between the left side border and the first character of the button name:\", self.spaces)\n",
        "    print(\"Characters representing the borders:\", word1)\n",
        "\n",
        "    a = ((self.border+(\" \"*self.spaces))+(self.word+(\" \"*self.spaces)+self.border))\n",
        "    print(self.border*self.num)\n",
        "    print(a)\n",
        "    print(self.border*self.num)\n",
        "\n",
        "\n",
        "word = \"CANCEL\"\n",
        "spaces = 10\n",
        "border = 'x'\n",
        "b1 = buttons(word, spaces, border)\n",
        "print(\"=======================================================\")\n",
        "b2 = buttons(\"Notify\",3, '!')\n",
        "print(\"=======================================================\")\n",
        "b3 = buttons('SAVE PROGRESS', 5, '$')"
      ],
      "metadata": {
        "id": "4rKYNxnRiD_p",
        "outputId": "4a9e9374-a13c-488c-f026-65dc67cf3442",
        "colab": {
          "base_uri": "https://localhost:8080/"
        }
      },
      "execution_count": null,
      "outputs": [
        {
          "output_type": "stream",
          "name": "stdout",
          "text": [
            "CANCEL Button Specifications:\n",
            "button name:  CANCEL\n",
            "Number of the border characters for the top and the bottom: x\n",
            "Number of spaces between the left side border and the first character of the button name 10\n",
            "Number of spaces between the left side border and the first character of the button name: 10\n",
            "Characters representing the borders: CANCEL\n",
            "xxxxxxxxxxxxxxxxxxxxxxxxxxxx\n",
            "x          CANCEL          x\n",
            "xxxxxxxxxxxxxxxxxxxxxxxxxxxx\n",
            "=======================================================\n",
            "Notify Button Specifications:\n",
            "button name:  Notify\n",
            "Number of the border characters for the top and the bottom: !\n",
            "Number of spaces between the left side border and the first character of the button name 3\n",
            "Number of spaces between the left side border and the first character of the button name: 3\n",
            "Characters representing the borders: Notify\n",
            "!!!!!!!!!!!!!!\n",
            "!   Notify   !\n",
            "!!!!!!!!!!!!!!\n",
            "=======================================================\n",
            "SAVE PROGRESS Button Specifications:\n",
            "button name:  SAVE PROGRESS\n",
            "Number of the border characters for the top and the bottom: $\n",
            "Number of spaces between the left side border and the first character of the button name 5\n",
            "Number of spaces between the left side border and the first character of the button name: 5\n",
            "Characters representing the borders: SAVE PROGRESS\n",
            "$$$$$$$$$$$$$$$$$$$$$$$$$\n",
            "$     SAVE PROGRESS     $\n",
            "$$$$$$$$$$$$$$$$$$$$$$$$$\n"
          ]
        }
      ]
    },
    {
      "cell_type": "code",
      "source": [],
      "metadata": {
        "id": "LVDhx5RhhM-c"
      },
      "execution_count": null,
      "outputs": []
    }
  ]
}